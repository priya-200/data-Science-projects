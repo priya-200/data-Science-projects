{
  "nbformat": 4,
  "nbformat_minor": 0,
  "metadata": {
    "colab": {
      "provenance": [],
      "include_colab_link": true
    },
    "kernelspec": {
      "name": "python3",
      "display_name": "Python 3"
    },
    "language_info": {
      "name": "python"
    }
  },
  "cells": [
    {
      "cell_type": "markdown",
      "metadata": {
        "id": "view-in-github",
        "colab_type": "text"
      },
      "source": [
        "<a href=\"https://colab.research.google.com/github/priya-200/data-Science-projects/blob/master/Stock%20Price%20Prediction.ipynb\" target=\"_parent\"><img src=\"https://colab.research.google.com/assets/colab-badge.svg\" alt=\"Open In Colab\"/></a>"
      ]
    },
    {
      "cell_type": "markdown",
      "source": [
        "#Stock Price Prediction using LSTM\n",
        "\n",
        "This project is to enhance my skill in the field of Deep learning and Data Science.\n",
        "We are goin to predict the stock Price of APPLE company"
      ],
      "metadata": {
        "id": "pQqDT7QvkXwq"
      }
    },
    {
      "cell_type": "markdown",
      "source": [
        "## Import statements"
      ],
      "metadata": {
        "id": "8anOsETqlaUM"
      }
    },
    {
      "cell_type": "code",
      "source": [
        "import tensorflow as tf\n",
        "import keras\n",
        "import yfinance as yf\n",
        "import numpy as np\n",
        "import pandas as pd\n",
        "import matplotlib.pyplot as plt\n",
        "import sklearn"
      ],
      "metadata": {
        "id": "CVcDHt5qlkTw"
      },
      "execution_count": 1,
      "outputs": []
    },
    {
      "cell_type": "markdown",
      "source": [
        "## Data Collection\n",
        "Here we are going to fetch the data of APPLE stock price using the API provided by yahoo via python librar"
      ],
      "metadata": {
        "id": "SLVn_69tlmOy"
      }
    },
    {
      "cell_type": "code",
      "source": [
        "#Fetch the data from yfinance API\n",
        "aapl_data = yf.download('AAPL',start = '2020-01-01',end = '2024-01-01')\n",
        "\n",
        "# Display few rows\n",
        "aapl_data.head()"
      ],
      "metadata": {
        "colab": {
          "base_uri": "https://localhost:8080/",
          "height": 254
        },
        "id": "20BIizlil2Ud",
        "outputId": "0ea01669-a33e-4943-bca5-931a2d681f71"
      },
      "execution_count": 40,
      "outputs": [
        {
          "output_type": "stream",
          "name": "stderr",
          "text": [
            "\r[*********************100%%**********************]  1 of 1 completed\n"
          ]
        },
        {
          "output_type": "execute_result",
          "data": {
            "text/plain": [
              "                 Open       High        Low      Close  Adj Close     Volume\n",
              "Date                                                                        \n",
              "2020-01-02  74.059998  75.150002  73.797501  75.087502  73.059425  135480400\n",
              "2020-01-03  74.287498  75.144997  74.125000  74.357498  72.349136  146322800\n",
              "2020-01-06  73.447502  74.989998  73.187500  74.949997  72.925621  118387200\n",
              "2020-01-07  74.959999  75.224998  74.370003  74.597504  72.582672  108872000\n",
              "2020-01-08  74.290001  76.110001  74.290001  75.797501  73.750237  132079200"
            ],
            "text/html": [
              "\n",
              "  <div id=\"df-2f272049-1e37-47e8-ab81-086cb32cc75f\" class=\"colab-df-container\">\n",
              "    <div>\n",
              "<style scoped>\n",
              "    .dataframe tbody tr th:only-of-type {\n",
              "        vertical-align: middle;\n",
              "    }\n",
              "\n",
              "    .dataframe tbody tr th {\n",
              "        vertical-align: top;\n",
              "    }\n",
              "\n",
              "    .dataframe thead th {\n",
              "        text-align: right;\n",
              "    }\n",
              "</style>\n",
              "<table border=\"1\" class=\"dataframe\">\n",
              "  <thead>\n",
              "    <tr style=\"text-align: right;\">\n",
              "      <th></th>\n",
              "      <th>Open</th>\n",
              "      <th>High</th>\n",
              "      <th>Low</th>\n",
              "      <th>Close</th>\n",
              "      <th>Adj Close</th>\n",
              "      <th>Volume</th>\n",
              "    </tr>\n",
              "    <tr>\n",
              "      <th>Date</th>\n",
              "      <th></th>\n",
              "      <th></th>\n",
              "      <th></th>\n",
              "      <th></th>\n",
              "      <th></th>\n",
              "      <th></th>\n",
              "    </tr>\n",
              "  </thead>\n",
              "  <tbody>\n",
              "    <tr>\n",
              "      <th>2020-01-02</th>\n",
              "      <td>74.059998</td>\n",
              "      <td>75.150002</td>\n",
              "      <td>73.797501</td>\n",
              "      <td>75.087502</td>\n",
              "      <td>73.059425</td>\n",
              "      <td>135480400</td>\n",
              "    </tr>\n",
              "    <tr>\n",
              "      <th>2020-01-03</th>\n",
              "      <td>74.287498</td>\n",
              "      <td>75.144997</td>\n",
              "      <td>74.125000</td>\n",
              "      <td>74.357498</td>\n",
              "      <td>72.349136</td>\n",
              "      <td>146322800</td>\n",
              "    </tr>\n",
              "    <tr>\n",
              "      <th>2020-01-06</th>\n",
              "      <td>73.447502</td>\n",
              "      <td>74.989998</td>\n",
              "      <td>73.187500</td>\n",
              "      <td>74.949997</td>\n",
              "      <td>72.925621</td>\n",
              "      <td>118387200</td>\n",
              "    </tr>\n",
              "    <tr>\n",
              "      <th>2020-01-07</th>\n",
              "      <td>74.959999</td>\n",
              "      <td>75.224998</td>\n",
              "      <td>74.370003</td>\n",
              "      <td>74.597504</td>\n",
              "      <td>72.582672</td>\n",
              "      <td>108872000</td>\n",
              "    </tr>\n",
              "    <tr>\n",
              "      <th>2020-01-08</th>\n",
              "      <td>74.290001</td>\n",
              "      <td>76.110001</td>\n",
              "      <td>74.290001</td>\n",
              "      <td>75.797501</td>\n",
              "      <td>73.750237</td>\n",
              "      <td>132079200</td>\n",
              "    </tr>\n",
              "  </tbody>\n",
              "</table>\n",
              "</div>\n",
              "    <div class=\"colab-df-buttons\">\n",
              "\n",
              "  <div class=\"colab-df-container\">\n",
              "    <button class=\"colab-df-convert\" onclick=\"convertToInteractive('df-2f272049-1e37-47e8-ab81-086cb32cc75f')\"\n",
              "            title=\"Convert this dataframe to an interactive table.\"\n",
              "            style=\"display:none;\">\n",
              "\n",
              "  <svg xmlns=\"http://www.w3.org/2000/svg\" height=\"24px\" viewBox=\"0 -960 960 960\">\n",
              "    <path d=\"M120-120v-720h720v720H120Zm60-500h600v-160H180v160Zm220 220h160v-160H400v160Zm0 220h160v-160H400v160ZM180-400h160v-160H180v160Zm440 0h160v-160H620v160ZM180-180h160v-160H180v160Zm440 0h160v-160H620v160Z\"/>\n",
              "  </svg>\n",
              "    </button>\n",
              "\n",
              "  <style>\n",
              "    .colab-df-container {\n",
              "      display:flex;\n",
              "      gap: 12px;\n",
              "    }\n",
              "\n",
              "    .colab-df-convert {\n",
              "      background-color: #E8F0FE;\n",
              "      border: none;\n",
              "      border-radius: 50%;\n",
              "      cursor: pointer;\n",
              "      display: none;\n",
              "      fill: #1967D2;\n",
              "      height: 32px;\n",
              "      padding: 0 0 0 0;\n",
              "      width: 32px;\n",
              "    }\n",
              "\n",
              "    .colab-df-convert:hover {\n",
              "      background-color: #E2EBFA;\n",
              "      box-shadow: 0px 1px 2px rgba(60, 64, 67, 0.3), 0px 1px 3px 1px rgba(60, 64, 67, 0.15);\n",
              "      fill: #174EA6;\n",
              "    }\n",
              "\n",
              "    .colab-df-buttons div {\n",
              "      margin-bottom: 4px;\n",
              "    }\n",
              "\n",
              "    [theme=dark] .colab-df-convert {\n",
              "      background-color: #3B4455;\n",
              "      fill: #D2E3FC;\n",
              "    }\n",
              "\n",
              "    [theme=dark] .colab-df-convert:hover {\n",
              "      background-color: #434B5C;\n",
              "      box-shadow: 0px 1px 3px 1px rgba(0, 0, 0, 0.15);\n",
              "      filter: drop-shadow(0px 1px 2px rgba(0, 0, 0, 0.3));\n",
              "      fill: #FFFFFF;\n",
              "    }\n",
              "  </style>\n",
              "\n",
              "    <script>\n",
              "      const buttonEl =\n",
              "        document.querySelector('#df-2f272049-1e37-47e8-ab81-086cb32cc75f button.colab-df-convert');\n",
              "      buttonEl.style.display =\n",
              "        google.colab.kernel.accessAllowed ? 'block' : 'none';\n",
              "\n",
              "      async function convertToInteractive(key) {\n",
              "        const element = document.querySelector('#df-2f272049-1e37-47e8-ab81-086cb32cc75f');\n",
              "        const dataTable =\n",
              "          await google.colab.kernel.invokeFunction('convertToInteractive',\n",
              "                                                    [key], {});\n",
              "        if (!dataTable) return;\n",
              "\n",
              "        const docLinkHtml = 'Like what you see? Visit the ' +\n",
              "          '<a target=\"_blank\" href=https://colab.research.google.com/notebooks/data_table.ipynb>data table notebook</a>'\n",
              "          + ' to learn more about interactive tables.';\n",
              "        element.innerHTML = '';\n",
              "        dataTable['output_type'] = 'display_data';\n",
              "        await google.colab.output.renderOutput(dataTable, element);\n",
              "        const docLink = document.createElement('div');\n",
              "        docLink.innerHTML = docLinkHtml;\n",
              "        element.appendChild(docLink);\n",
              "      }\n",
              "    </script>\n",
              "  </div>\n",
              "\n",
              "\n",
              "<div id=\"df-6a759521-7715-48d5-a7bf-ad252f49b8c6\">\n",
              "  <button class=\"colab-df-quickchart\" onclick=\"quickchart('df-6a759521-7715-48d5-a7bf-ad252f49b8c6')\"\n",
              "            title=\"Suggest charts\"\n",
              "            style=\"display:none;\">\n",
              "\n",
              "<svg xmlns=\"http://www.w3.org/2000/svg\" height=\"24px\"viewBox=\"0 0 24 24\"\n",
              "     width=\"24px\">\n",
              "    <g>\n",
              "        <path d=\"M19 3H5c-1.1 0-2 .9-2 2v14c0 1.1.9 2 2 2h14c1.1 0 2-.9 2-2V5c0-1.1-.9-2-2-2zM9 17H7v-7h2v7zm4 0h-2V7h2v10zm4 0h-2v-4h2v4z\"/>\n",
              "    </g>\n",
              "</svg>\n",
              "  </button>\n",
              "\n",
              "<style>\n",
              "  .colab-df-quickchart {\n",
              "      --bg-color: #E8F0FE;\n",
              "      --fill-color: #1967D2;\n",
              "      --hover-bg-color: #E2EBFA;\n",
              "      --hover-fill-color: #174EA6;\n",
              "      --disabled-fill-color: #AAA;\n",
              "      --disabled-bg-color: #DDD;\n",
              "  }\n",
              "\n",
              "  [theme=dark] .colab-df-quickchart {\n",
              "      --bg-color: #3B4455;\n",
              "      --fill-color: #D2E3FC;\n",
              "      --hover-bg-color: #434B5C;\n",
              "      --hover-fill-color: #FFFFFF;\n",
              "      --disabled-bg-color: #3B4455;\n",
              "      --disabled-fill-color: #666;\n",
              "  }\n",
              "\n",
              "  .colab-df-quickchart {\n",
              "    background-color: var(--bg-color);\n",
              "    border: none;\n",
              "    border-radius: 50%;\n",
              "    cursor: pointer;\n",
              "    display: none;\n",
              "    fill: var(--fill-color);\n",
              "    height: 32px;\n",
              "    padding: 0;\n",
              "    width: 32px;\n",
              "  }\n",
              "\n",
              "  .colab-df-quickchart:hover {\n",
              "    background-color: var(--hover-bg-color);\n",
              "    box-shadow: 0 1px 2px rgba(60, 64, 67, 0.3), 0 1px 3px 1px rgba(60, 64, 67, 0.15);\n",
              "    fill: var(--button-hover-fill-color);\n",
              "  }\n",
              "\n",
              "  .colab-df-quickchart-complete:disabled,\n",
              "  .colab-df-quickchart-complete:disabled:hover {\n",
              "    background-color: var(--disabled-bg-color);\n",
              "    fill: var(--disabled-fill-color);\n",
              "    box-shadow: none;\n",
              "  }\n",
              "\n",
              "  .colab-df-spinner {\n",
              "    border: 2px solid var(--fill-color);\n",
              "    border-color: transparent;\n",
              "    border-bottom-color: var(--fill-color);\n",
              "    animation:\n",
              "      spin 1s steps(1) infinite;\n",
              "  }\n",
              "\n",
              "  @keyframes spin {\n",
              "    0% {\n",
              "      border-color: transparent;\n",
              "      border-bottom-color: var(--fill-color);\n",
              "      border-left-color: var(--fill-color);\n",
              "    }\n",
              "    20% {\n",
              "      border-color: transparent;\n",
              "      border-left-color: var(--fill-color);\n",
              "      border-top-color: var(--fill-color);\n",
              "    }\n",
              "    30% {\n",
              "      border-color: transparent;\n",
              "      border-left-color: var(--fill-color);\n",
              "      border-top-color: var(--fill-color);\n",
              "      border-right-color: var(--fill-color);\n",
              "    }\n",
              "    40% {\n",
              "      border-color: transparent;\n",
              "      border-right-color: var(--fill-color);\n",
              "      border-top-color: var(--fill-color);\n",
              "    }\n",
              "    60% {\n",
              "      border-color: transparent;\n",
              "      border-right-color: var(--fill-color);\n",
              "    }\n",
              "    80% {\n",
              "      border-color: transparent;\n",
              "      border-right-color: var(--fill-color);\n",
              "      border-bottom-color: var(--fill-color);\n",
              "    }\n",
              "    90% {\n",
              "      border-color: transparent;\n",
              "      border-bottom-color: var(--fill-color);\n",
              "    }\n",
              "  }\n",
              "</style>\n",
              "\n",
              "  <script>\n",
              "    async function quickchart(key) {\n",
              "      const quickchartButtonEl =\n",
              "        document.querySelector('#' + key + ' button');\n",
              "      quickchartButtonEl.disabled = true;  // To prevent multiple clicks.\n",
              "      quickchartButtonEl.classList.add('colab-df-spinner');\n",
              "      try {\n",
              "        const charts = await google.colab.kernel.invokeFunction(\n",
              "            'suggestCharts', [key], {});\n",
              "      } catch (error) {\n",
              "        console.error('Error during call to suggestCharts:', error);\n",
              "      }\n",
              "      quickchartButtonEl.classList.remove('colab-df-spinner');\n",
              "      quickchartButtonEl.classList.add('colab-df-quickchart-complete');\n",
              "    }\n",
              "    (() => {\n",
              "      let quickchartButtonEl =\n",
              "        document.querySelector('#df-6a759521-7715-48d5-a7bf-ad252f49b8c6 button');\n",
              "      quickchartButtonEl.style.display =\n",
              "        google.colab.kernel.accessAllowed ? 'block' : 'none';\n",
              "    })();\n",
              "  </script>\n",
              "</div>\n",
              "\n",
              "    </div>\n",
              "  </div>\n"
            ],
            "application/vnd.google.colaboratory.intrinsic+json": {
              "type": "dataframe",
              "variable_name": "aapl_data",
              "summary": "{\n  \"name\": \"aapl_data\",\n  \"rows\": 1006,\n  \"fields\": [\n    {\n      \"column\": \"Date\",\n      \"properties\": {\n        \"dtype\": \"date\",\n        \"min\": \"2020-01-02 00:00:00\",\n        \"max\": \"2023-12-29 00:00:00\",\n        \"num_unique_values\": 1006,\n        \"samples\": [\n          \"2023-09-08 00:00:00\",\n          \"2022-07-05 00:00:00\",\n          \"2022-09-16 00:00:00\"\n        ],\n        \"semantic_type\": \"\",\n        \"description\": \"\"\n      }\n    },\n    {\n      \"column\": \"Open\",\n      \"properties\": {\n        \"dtype\": \"number\",\n        \"std\": 33.31001776940112,\n        \"min\": 57.02000045776367,\n        \"max\": 198.02000427246094,\n        \"num_unique_values\": 956,\n        \"samples\": [\n          127.81999969482422,\n          179.47999572753906,\n          170.97000122070312\n        ],\n        \"semantic_type\": \"\",\n        \"description\": \"\"\n      }\n    },\n    {\n      \"column\": \"High\",\n      \"properties\": {\n        \"dtype\": \"number\",\n        \"std\": 33.43057053182057,\n        \"min\": 57.125,\n        \"max\": 199.6199951171875,\n        \"num_unique_values\": 956,\n        \"samples\": [\n          128.32000732421875,\n          179.69000244140625,\n          172.9499969482422\n        ],\n        \"semantic_type\": \"\",\n        \"description\": \"\"\n      }\n    },\n    {\n      \"column\": \"Low\",\n      \"properties\": {\n        \"dtype\": \"number\",\n        \"std\": 33.17919879094591,\n        \"min\": 53.15250015258789,\n        \"max\": 197.0,\n        \"num_unique_values\": 963,\n        \"samples\": [\n          162.42999267578125,\n          125.94000244140625,\n          126.20999908447266\n        ],\n        \"semantic_type\": \"\",\n        \"description\": \"\"\n      }\n    },\n    {\n      \"column\": \"Close\",\n      \"properties\": {\n        \"dtype\": \"number\",\n        \"std\": 33.31385702299744,\n        \"min\": 56.092498779296875,\n        \"max\": 198.11000061035156,\n        \"num_unique_values\": 956,\n        \"samples\": [\n          124.8499984741211,\n          178.19000244140625,\n          168.8800048828125\n        ],\n        \"semantic_type\": \"\",\n        \"description\": \"\"\n      }\n    },\n    {\n      \"column\": \"Adj Close\",\n      \"properties\": {\n        \"dtype\": \"number\",\n        \"std\": 33.661414131642516,\n        \"min\": 54.70699691772461,\n        \"max\": 197.85752868652344,\n        \"num_unique_values\": 994,\n        \"samples\": [\n          173.75906372070312,\n          174.2882843017578,\n          165.7656707763672\n        ],\n        \"semantic_type\": \"\",\n        \"description\": \"\"\n      }\n    },\n    {\n      \"column\": \"Volume\",\n      \"properties\": {\n        \"dtype\": \"number\",\n        \"std\": 54396526,\n        \"min\": 24048300,\n        \"max\": 426510000,\n        \"num_unique_values\": 1004,\n        \"samples\": [\n          58953100,\n          74064300,\n          81474200\n        ],\n        \"semantic_type\": \"\",\n        \"description\": \"\"\n      }\n    }\n  ]\n}"
            }
          },
          "metadata": {},
          "execution_count": 40
        }
      ]
    },
    {
      "cell_type": "markdown",
      "source": [
        "## Preprocessing our data\n",
        "This is a crucial step in a machine learning or a deep learning process because a improper data may affect our model to a great extend"
      ],
      "metadata": {
        "id": "x5M1BK_GmLmw"
      }
    },
    {
      "cell_type": "code",
      "source": [
        "# Check for missing value\n",
        "\n",
        "aapl_data.isna().sum()"
      ],
      "metadata": {
        "colab": {
          "base_uri": "https://localhost:8080/"
        },
        "id": "dFEUumuvmg2v",
        "outputId": "26ca0e2a-56dc-46da-97e2-49409d09150c"
      },
      "execution_count": 41,
      "outputs": [
        {
          "output_type": "execute_result",
          "data": {
            "text/plain": [
              "Open         0\n",
              "High         0\n",
              "Low          0\n",
              "Close        0\n",
              "Adj Close    0\n",
              "Volume       0\n",
              "dtype: int64"
            ]
          },
          "metadata": {},
          "execution_count": 41
        }
      ]
    },
    {
      "cell_type": "markdown",
      "source": [
        "## Normalization\n",
        "It is nessasary because our model likes to see the data in the range 0 and 1, which may increase it's performance"
      ],
      "metadata": {
        "id": "rT77OFJUmmLD"
      }
    },
    {
      "cell_type": "code",
      "source": [
        "from sklearn.preprocessing import MinMaxScaler\n",
        "scaler = MinMaxScaler()\n",
        "aapl_data_scaled = scaler.fit_transform(aapl_data['Close'].values.reshape(-1,1))"
      ],
      "metadata": {
        "id": "6ZIVnSgWm3EH"
      },
      "execution_count": 42,
      "outputs": []
    },
    {
      "cell_type": "markdown",
      "source": [
        "In the above step we reshaped the data because initially the data was in the form of 1D array but fit_transform need the data in the form 2D array"
      ],
      "metadata": {
        "id": "zWiI-D6fnHrT"
      }
    },
    {
      "cell_type": "code",
      "source": [
        "scaler.fit_transform(aapl_data['Close'].values)"
      ],
      "metadata": {
        "colab": {
          "base_uri": "https://localhost:8080/",
          "height": 356
        },
        "id": "NrBUKbEinhAb",
        "outputId": "b3e0477b-78e4-43aa-d0fc-c02845f4bad2"
      },
      "execution_count": null,
      "outputs": [
        {
          "output_type": "error",
          "ename": "ValueError",
          "evalue": "Expected 2D array, got 1D array instead:\narray=[ 75.08750153  74.35749817  74.94999695 ... 193.1499939  193.58000183\n 192.52999878].\nReshape your data either using array.reshape(-1, 1) if your data has a single feature or array.reshape(1, -1) if it contains a single sample.",
          "traceback": [
            "\u001b[0;31m---------------------------------------------------------------------------\u001b[0m",
            "\u001b[0;31mValueError\u001b[0m                                Traceback (most recent call last)",
            "\u001b[0;32m<ipython-input-4-517585a7bf0c>\u001b[0m in \u001b[0;36m<cell line: 1>\u001b[0;34m()\u001b[0m\n\u001b[0;32m----> 1\u001b[0;31m \u001b[0mscaler\u001b[0m\u001b[0;34m.\u001b[0m\u001b[0mfit_transform\u001b[0m\u001b[0;34m(\u001b[0m\u001b[0maapl_data\u001b[0m\u001b[0;34m[\u001b[0m\u001b[0;34m'Close'\u001b[0m\u001b[0;34m]\u001b[0m\u001b[0;34m.\u001b[0m\u001b[0mvalues\u001b[0m\u001b[0;34m)\u001b[0m\u001b[0;34m\u001b[0m\u001b[0;34m\u001b[0m\u001b[0m\n\u001b[0m",
            "\u001b[0;32m/usr/local/lib/python3.10/dist-packages/sklearn/utils/_set_output.py\u001b[0m in \u001b[0;36mwrapped\u001b[0;34m(self, X, *args, **kwargs)\u001b[0m\n\u001b[1;32m    138\u001b[0m     \u001b[0;34m@\u001b[0m\u001b[0mwraps\u001b[0m\u001b[0;34m(\u001b[0m\u001b[0mf\u001b[0m\u001b[0;34m)\u001b[0m\u001b[0;34m\u001b[0m\u001b[0;34m\u001b[0m\u001b[0m\n\u001b[1;32m    139\u001b[0m     \u001b[0;32mdef\u001b[0m \u001b[0mwrapped\u001b[0m\u001b[0;34m(\u001b[0m\u001b[0mself\u001b[0m\u001b[0;34m,\u001b[0m \u001b[0mX\u001b[0m\u001b[0;34m,\u001b[0m \u001b[0;34m*\u001b[0m\u001b[0margs\u001b[0m\u001b[0;34m,\u001b[0m \u001b[0;34m**\u001b[0m\u001b[0mkwargs\u001b[0m\u001b[0;34m)\u001b[0m\u001b[0;34m:\u001b[0m\u001b[0;34m\u001b[0m\u001b[0;34m\u001b[0m\u001b[0m\n\u001b[0;32m--> 140\u001b[0;31m         \u001b[0mdata_to_wrap\u001b[0m \u001b[0;34m=\u001b[0m \u001b[0mf\u001b[0m\u001b[0;34m(\u001b[0m\u001b[0mself\u001b[0m\u001b[0;34m,\u001b[0m \u001b[0mX\u001b[0m\u001b[0;34m,\u001b[0m \u001b[0;34m*\u001b[0m\u001b[0margs\u001b[0m\u001b[0;34m,\u001b[0m \u001b[0;34m**\u001b[0m\u001b[0mkwargs\u001b[0m\u001b[0;34m)\u001b[0m\u001b[0;34m\u001b[0m\u001b[0;34m\u001b[0m\u001b[0m\n\u001b[0m\u001b[1;32m    141\u001b[0m         \u001b[0;32mif\u001b[0m \u001b[0misinstance\u001b[0m\u001b[0;34m(\u001b[0m\u001b[0mdata_to_wrap\u001b[0m\u001b[0;34m,\u001b[0m \u001b[0mtuple\u001b[0m\u001b[0;34m)\u001b[0m\u001b[0;34m:\u001b[0m\u001b[0;34m\u001b[0m\u001b[0;34m\u001b[0m\u001b[0m\n\u001b[1;32m    142\u001b[0m             \u001b[0;31m# only wrap the first output for cross decomposition\u001b[0m\u001b[0;34m\u001b[0m\u001b[0;34m\u001b[0m\u001b[0m\n",
            "\u001b[0;32m/usr/local/lib/python3.10/dist-packages/sklearn/base.py\u001b[0m in \u001b[0;36mfit_transform\u001b[0;34m(self, X, y, **fit_params)\u001b[0m\n\u001b[1;32m    876\u001b[0m         \u001b[0;32mif\u001b[0m \u001b[0my\u001b[0m \u001b[0;32mis\u001b[0m \u001b[0;32mNone\u001b[0m\u001b[0;34m:\u001b[0m\u001b[0;34m\u001b[0m\u001b[0;34m\u001b[0m\u001b[0m\n\u001b[1;32m    877\u001b[0m             \u001b[0;31m# fit method of arity 1 (unsupervised transformation)\u001b[0m\u001b[0;34m\u001b[0m\u001b[0;34m\u001b[0m\u001b[0m\n\u001b[0;32m--> 878\u001b[0;31m             \u001b[0;32mreturn\u001b[0m \u001b[0mself\u001b[0m\u001b[0;34m.\u001b[0m\u001b[0mfit\u001b[0m\u001b[0;34m(\u001b[0m\u001b[0mX\u001b[0m\u001b[0;34m,\u001b[0m \u001b[0;34m**\u001b[0m\u001b[0mfit_params\u001b[0m\u001b[0;34m)\u001b[0m\u001b[0;34m.\u001b[0m\u001b[0mtransform\u001b[0m\u001b[0;34m(\u001b[0m\u001b[0mX\u001b[0m\u001b[0;34m)\u001b[0m\u001b[0;34m\u001b[0m\u001b[0;34m\u001b[0m\u001b[0m\n\u001b[0m\u001b[1;32m    879\u001b[0m         \u001b[0;32melse\u001b[0m\u001b[0;34m:\u001b[0m\u001b[0;34m\u001b[0m\u001b[0;34m\u001b[0m\u001b[0m\n\u001b[1;32m    880\u001b[0m             \u001b[0;31m# fit method of arity 2 (supervised transformation)\u001b[0m\u001b[0;34m\u001b[0m\u001b[0;34m\u001b[0m\u001b[0m\n",
            "\u001b[0;32m/usr/local/lib/python3.10/dist-packages/sklearn/preprocessing/_data.py\u001b[0m in \u001b[0;36mfit\u001b[0;34m(self, X, y)\u001b[0m\n\u001b[1;32m    425\u001b[0m         \u001b[0;31m# Reset internal state before fitting\u001b[0m\u001b[0;34m\u001b[0m\u001b[0;34m\u001b[0m\u001b[0m\n\u001b[1;32m    426\u001b[0m         \u001b[0mself\u001b[0m\u001b[0;34m.\u001b[0m\u001b[0m_reset\u001b[0m\u001b[0;34m(\u001b[0m\u001b[0;34m)\u001b[0m\u001b[0;34m\u001b[0m\u001b[0;34m\u001b[0m\u001b[0m\n\u001b[0;32m--> 427\u001b[0;31m         \u001b[0;32mreturn\u001b[0m \u001b[0mself\u001b[0m\u001b[0;34m.\u001b[0m\u001b[0mpartial_fit\u001b[0m\u001b[0;34m(\u001b[0m\u001b[0mX\u001b[0m\u001b[0;34m,\u001b[0m \u001b[0my\u001b[0m\u001b[0;34m)\u001b[0m\u001b[0;34m\u001b[0m\u001b[0;34m\u001b[0m\u001b[0m\n\u001b[0m\u001b[1;32m    428\u001b[0m \u001b[0;34m\u001b[0m\u001b[0m\n\u001b[1;32m    429\u001b[0m     \u001b[0;32mdef\u001b[0m \u001b[0mpartial_fit\u001b[0m\u001b[0;34m(\u001b[0m\u001b[0mself\u001b[0m\u001b[0;34m,\u001b[0m \u001b[0mX\u001b[0m\u001b[0;34m,\u001b[0m \u001b[0my\u001b[0m\u001b[0;34m=\u001b[0m\u001b[0;32mNone\u001b[0m\u001b[0;34m)\u001b[0m\u001b[0;34m:\u001b[0m\u001b[0;34m\u001b[0m\u001b[0;34m\u001b[0m\u001b[0m\n",
            "\u001b[0;32m/usr/local/lib/python3.10/dist-packages/sklearn/preprocessing/_data.py\u001b[0m in \u001b[0;36mpartial_fit\u001b[0;34m(self, X, y)\u001b[0m\n\u001b[1;32m    464\u001b[0m \u001b[0;34m\u001b[0m\u001b[0m\n\u001b[1;32m    465\u001b[0m         \u001b[0mfirst_pass\u001b[0m \u001b[0;34m=\u001b[0m \u001b[0;32mnot\u001b[0m \u001b[0mhasattr\u001b[0m\u001b[0;34m(\u001b[0m\u001b[0mself\u001b[0m\u001b[0;34m,\u001b[0m \u001b[0;34m\"n_samples_seen_\"\u001b[0m\u001b[0;34m)\u001b[0m\u001b[0;34m\u001b[0m\u001b[0;34m\u001b[0m\u001b[0m\n\u001b[0;32m--> 466\u001b[0;31m         X = self._validate_data(\n\u001b[0m\u001b[1;32m    467\u001b[0m             \u001b[0mX\u001b[0m\u001b[0;34m,\u001b[0m\u001b[0;34m\u001b[0m\u001b[0;34m\u001b[0m\u001b[0m\n\u001b[1;32m    468\u001b[0m             \u001b[0mreset\u001b[0m\u001b[0;34m=\u001b[0m\u001b[0mfirst_pass\u001b[0m\u001b[0;34m,\u001b[0m\u001b[0;34m\u001b[0m\u001b[0;34m\u001b[0m\u001b[0m\n",
            "\u001b[0;32m/usr/local/lib/python3.10/dist-packages/sklearn/base.py\u001b[0m in \u001b[0;36m_validate_data\u001b[0;34m(self, X, y, reset, validate_separately, **check_params)\u001b[0m\n\u001b[1;32m    563\u001b[0m             \u001b[0;32mraise\u001b[0m \u001b[0mValueError\u001b[0m\u001b[0;34m(\u001b[0m\u001b[0;34m\"Validation should be done on X, y or both.\"\u001b[0m\u001b[0;34m)\u001b[0m\u001b[0;34m\u001b[0m\u001b[0;34m\u001b[0m\u001b[0m\n\u001b[1;32m    564\u001b[0m         \u001b[0;32melif\u001b[0m \u001b[0;32mnot\u001b[0m \u001b[0mno_val_X\u001b[0m \u001b[0;32mand\u001b[0m \u001b[0mno_val_y\u001b[0m\u001b[0;34m:\u001b[0m\u001b[0;34m\u001b[0m\u001b[0;34m\u001b[0m\u001b[0m\n\u001b[0;32m--> 565\u001b[0;31m             \u001b[0mX\u001b[0m \u001b[0;34m=\u001b[0m \u001b[0mcheck_array\u001b[0m\u001b[0;34m(\u001b[0m\u001b[0mX\u001b[0m\u001b[0;34m,\u001b[0m \u001b[0minput_name\u001b[0m\u001b[0;34m=\u001b[0m\u001b[0;34m\"X\"\u001b[0m\u001b[0;34m,\u001b[0m \u001b[0;34m**\u001b[0m\u001b[0mcheck_params\u001b[0m\u001b[0;34m)\u001b[0m\u001b[0;34m\u001b[0m\u001b[0;34m\u001b[0m\u001b[0m\n\u001b[0m\u001b[1;32m    566\u001b[0m             \u001b[0mout\u001b[0m \u001b[0;34m=\u001b[0m \u001b[0mX\u001b[0m\u001b[0;34m\u001b[0m\u001b[0;34m\u001b[0m\u001b[0m\n\u001b[1;32m    567\u001b[0m         \u001b[0;32melif\u001b[0m \u001b[0mno_val_X\u001b[0m \u001b[0;32mand\u001b[0m \u001b[0;32mnot\u001b[0m \u001b[0mno_val_y\u001b[0m\u001b[0;34m:\u001b[0m\u001b[0;34m\u001b[0m\u001b[0;34m\u001b[0m\u001b[0m\n",
            "\u001b[0;32m/usr/local/lib/python3.10/dist-packages/sklearn/utils/validation.py\u001b[0m in \u001b[0;36mcheck_array\u001b[0;34m(array, accept_sparse, accept_large_sparse, dtype, order, copy, force_all_finite, ensure_2d, allow_nd, ensure_min_samples, ensure_min_features, estimator, input_name)\u001b[0m\n\u001b[1;32m    900\u001b[0m             \u001b[0;31m# If input is 1D raise error\u001b[0m\u001b[0;34m\u001b[0m\u001b[0;34m\u001b[0m\u001b[0m\n\u001b[1;32m    901\u001b[0m             \u001b[0;32mif\u001b[0m \u001b[0marray\u001b[0m\u001b[0;34m.\u001b[0m\u001b[0mndim\u001b[0m \u001b[0;34m==\u001b[0m \u001b[0;36m1\u001b[0m\u001b[0;34m:\u001b[0m\u001b[0;34m\u001b[0m\u001b[0;34m\u001b[0m\u001b[0m\n\u001b[0;32m--> 902\u001b[0;31m                 raise ValueError(\n\u001b[0m\u001b[1;32m    903\u001b[0m                     \u001b[0;34m\"Expected 2D array, got 1D array instead:\\narray={}.\\n\"\u001b[0m\u001b[0;34m\u001b[0m\u001b[0;34m\u001b[0m\u001b[0m\n\u001b[1;32m    904\u001b[0m                     \u001b[0;34m\"Reshape your data either using array.reshape(-1, 1) if \"\u001b[0m\u001b[0;34m\u001b[0m\u001b[0;34m\u001b[0m\u001b[0m\n",
            "\u001b[0;31mValueError\u001b[0m: Expected 2D array, got 1D array instead:\narray=[ 75.08750153  74.35749817  74.94999695 ... 193.1499939  193.58000183\n 192.52999878].\nReshape your data either using array.reshape(-1, 1) if your data has a single feature or array.reshape(1, -1) if it contains a single sample."
          ]
        }
      ]
    },
    {
      "cell_type": "code",
      "source": [
        "aapl_data['Close'].values.shape"
      ],
      "metadata": {
        "colab": {
          "base_uri": "https://localhost:8080/"
        },
        "id": "8VbXoaXbnWGh",
        "outputId": "1676b89d-1d0c-457a-cc9f-915c68da6a50"
      },
      "execution_count": null,
      "outputs": [
        {
          "output_type": "execute_result",
          "data": {
            "text/plain": [
              "(1006,)"
            ]
          },
          "metadata": {},
          "execution_count": 5
        }
      ]
    },
    {
      "cell_type": "code",
      "source": [
        "aapl_data['Close'].values.reshape(-1,1).shape"
      ],
      "metadata": {
        "colab": {
          "base_uri": "https://localhost:8080/"
        },
        "id": "hZf6scpYnY-O",
        "outputId": "3a6ea4d8-68fb-4f3b-e107-0731247ee448"
      },
      "execution_count": null,
      "outputs": [
        {
          "output_type": "execute_result",
          "data": {
            "text/plain": [
              "(1006, 1)"
            ]
          },
          "metadata": {},
          "execution_count": 6
        }
      ]
    },
    {
      "cell_type": "markdown",
      "source": [
        "## Creating Sequence\n",
        "Since we plan to use RNN networks along with LSTM we need the input data to be in sequential Order\n",
        "Sequence Length:\n",
        "This is really a arbitary number where we say the model to look n last data.\n",
        "For example if the number is 60 then the model will look for last 60 days data for evaluate a data"
      ],
      "metadata": {
        "id": "4dJH_PPwneiz"
      }
    },
    {
      "cell_type": "code",
      "source": [
        "X = []\n",
        "y = []\n",
        "for i in range(60,len(aapl_data_scaled)):\n",
        "  X.append(aapl_data_scaled[i-60:i,0])\n",
        "  y.append(aapl_data_scaled[i,0])"
      ],
      "metadata": {
        "id": "9gSAy1BqoEIE"
      },
      "execution_count": 43,
      "outputs": []
    },
    {
      "cell_type": "code",
      "source": [
        "# You might be wondering what is it mean by aapl_data_scaled[i-60:i,0]\n",
        "# Let's see it in action\n",
        "\n",
        "aapl_data_scaled[0:60].shape\n",
        "# The shape is in 2D array noe to conver it into 1D array we use 0"
      ],
      "metadata": {
        "colab": {
          "base_uri": "https://localhost:8080/"
        },
        "id": "DG66D2lHoTiF",
        "outputId": "40ad7ba3-ebb8-4e98-a796-a33837122e55"
      },
      "execution_count": 44,
      "outputs": [
        {
          "output_type": "execute_result",
          "data": {
            "text/plain": [
              "(60, 1)"
            ]
          },
          "metadata": {},
          "execution_count": 44
        }
      ]
    },
    {
      "cell_type": "code",
      "source": [
        "aapl_data_scaled[0:60,0].shape"
      ],
      "metadata": {
        "colab": {
          "base_uri": "https://localhost:8080/"
        },
        "id": "MkhVhak6onxO",
        "outputId": "2efecf46-3dd5-4ba3-dc11-86859a0bc72d"
      },
      "execution_count": 45,
      "outputs": [
        {
          "output_type": "execute_result",
          "data": {
            "text/plain": [
              "(60,)"
            ]
          },
          "metadata": {},
          "execution_count": 45
        }
      ]
    },
    {
      "cell_type": "code",
      "source": [
        "y[0],X[1][len(X[1])-1]"
      ],
      "metadata": {
        "colab": {
          "base_uri": "https://localhost:8080/"
        },
        "id": "2Eu6RmcCowf_",
        "outputId": "22164d39-c70d-4e6d-93ce-47949aa4e940"
      },
      "execution_count": 46,
      "outputs": [
        {
          "output_type": "execute_result",
          "data": {
            "text/plain": [
              "(0.05358494912411915, 0.05358494912411915)"
            ]
          },
          "metadata": {},
          "execution_count": 46
        }
      ]
    },
    {
      "cell_type": "markdown",
      "source": [
        "## Train test split\n",
        "> This iis import because testing our model is as import as building a model so we use train and test split.\n",
        "The test data will be usually 80% of the data i dataset and the test will be 20% of the data in the dataset\n",
        "\n",
        "Sinces we are working with LSTM model we cant change the sequence of order so we don't use train test split module from sklearn"
      ],
      "metadata": {
        "id": "7Lfoxbu3pVoD"
      }
    },
    {
      "cell_type": "code",
      "source": [
        "train_size = int(len(X)*0.8)\n",
        "test_size = len(X) - train_size\n",
        "\n",
        "X_train, X_test = X[:train_size], X[train_size:]\n",
        "y_train, y_test = y[:train_size], y[train_size:]"
      ],
      "metadata": {
        "id": "xJdXz2qOqps_"
      },
      "execution_count": 47,
      "outputs": []
    },
    {
      "cell_type": "code",
      "source": [
        "X_train[:2],y_train[0]"
      ],
      "metadata": {
        "colab": {
          "base_uri": "https://localhost:8080/"
        },
        "id": "VTRIh9AUrC2M",
        "outputId": "2225c40d-c057-4cc5-f9a0-03f63b6824b7"
      },
      "execution_count": 48,
      "outputs": [
        {
          "output_type": "execute_result",
          "data": {
            "text/plain": [
              "([array([0.13375114, 0.1286109 , 0.13278292, 0.13030088, 0.13875052,\n",
              "         0.15008715, 0.15131936, 0.16299047, 0.15545619, 0.15309733,\n",
              "         0.15996267, 0.16610632, 0.16230396, 0.16429316, 0.16698649,\n",
              "         0.16536695, 0.14889013, 0.16427554, 0.17598183, 0.17515447,\n",
              "         0.14987592, 0.14837961, 0.16631755, 0.17089446, 0.17751333,\n",
              "         0.16839474, 0.17107045, 0.16765538, 0.18101645, 0.17691481,\n",
              "         0.17705567, 0.16658159, 0.17471438, 0.16887002, 0.15610751,\n",
              "         0.12993116, 0.11215165, 0.12019645, 0.08652102, 0.08623935,\n",
              "         0.13104019, 0.11433452, 0.13795834, 0.12067178, 0.11382401,\n",
              "         0.07358251, 0.10732832, 0.08988328, 0.04200187, 0.09435458,\n",
              "         0.0314046 , 0.05015228, 0.03925573, 0.03592868, 0.00857291,\n",
              "         0.        , 0.03962541, 0.03723134, 0.05997502, 0.04113931]),\n",
              "  array([0.1286109 , 0.13278292, 0.13030088, 0.13875052, 0.15008715,\n",
              "         0.15131936, 0.16299047, 0.15545619, 0.15309733, 0.15996267,\n",
              "         0.16610632, 0.16230396, 0.16429316, 0.16698649, 0.16536695,\n",
              "         0.14889013, 0.16427554, 0.17598183, 0.17515447, 0.14987592,\n",
              "         0.14837961, 0.16631755, 0.17089446, 0.17751333, 0.16839474,\n",
              "         0.17107045, 0.16765538, 0.18101645, 0.17691481, 0.17705567,\n",
              "         0.16658159, 0.17471438, 0.16887002, 0.15610751, 0.12993116,\n",
              "         0.11215165, 0.12019645, 0.08652102, 0.08623935, 0.13104019,\n",
              "         0.11433452, 0.13795834, 0.12067178, 0.11382401, 0.07358251,\n",
              "         0.10732832, 0.08988328, 0.04200187, 0.09435458, 0.0314046 ,\n",
              "         0.05015228, 0.03925573, 0.03592868, 0.00857291, 0.        ,\n",
              "         0.03962541, 0.03723134, 0.05997502, 0.04113931, 0.05358495])],\n",
              " 0.05358494912411915)"
            ]
          },
          "metadata": {},
          "execution_count": 48
        }
      ]
    },
    {
      "cell_type": "markdown",
      "source": [
        "Here the X[i] data represent the last 60 values before the data y[i]"
      ],
      "metadata": {
        "id": "P52ts3UWrIkI"
      }
    },
    {
      "cell_type": "markdown",
      "source": [
        "## Reshaping the Data\n",
        "The data should be in the formate of 3D form\n",
        "[batch_size, time_steps, units]\n",
        "* Batch size determines how many samples are processed together in each training iteration.\n",
        "* Time steps represent the number of steps or sequences in the input data.\n",
        "* Features represent the different attributes or dimensions of the input data at each time step."
      ],
      "metadata": {
        "id": "9yQ0-pGkr9aH"
      }
    },
    {
      "cell_type": "code",
      "source": [
        "np.array(X_train).shape"
      ],
      "metadata": {
        "colab": {
          "base_uri": "https://localhost:8080/"
        },
        "id": "hiqVnlfbrlAL",
        "outputId": "de5ef141-c76d-410a-8eb5-f350bcf36c6a"
      },
      "execution_count": null,
      "outputs": [
        {
          "output_type": "execute_result",
          "data": {
            "text/plain": [
              "(756, 60)"
            ]
          },
          "metadata": {},
          "execution_count": 31
        }
      ]
    },
    {
      "cell_type": "code",
      "source": [
        "X_train[0].shape"
      ],
      "metadata": {
        "id": "kpEBZtbArvYZ",
        "colab": {
          "base_uri": "https://localhost:8080/"
        },
        "outputId": "41e71aca-7434-4644-ef95-7285c02744c5"
      },
      "execution_count": null,
      "outputs": [
        {
          "output_type": "execute_result",
          "data": {
            "text/plain": [
              "(60,)"
            ]
          },
          "metadata": {},
          "execution_count": 9
        }
      ]
    },
    {
      "cell_type": "code",
      "source": [
        "X_train, y_train = np.array(X_train),np.array(y_train)\n",
        "X_train = np.reshape(X_train,(X_train.shape[0],X_train.shape[1],1))"
      ],
      "metadata": {
        "id": "-VB6uwpiER-q"
      },
      "execution_count": 51,
      "outputs": []
    },
    {
      "cell_type": "code",
      "source": [
        "X_train.shape"
      ],
      "metadata": {
        "colab": {
          "base_uri": "https://localhost:8080/"
        },
        "id": "FGM0jTJNFUot",
        "outputId": "18f8d3e1-2ce4-4b31-efe9-97a39facdb17"
      },
      "execution_count": 52,
      "outputs": [
        {
          "output_type": "execute_result",
          "data": {
            "text/plain": [
              "(756, 60, 1)"
            ]
          },
          "metadata": {},
          "execution_count": 52
        }
      ]
    },
    {
      "cell_type": "markdown",
      "source": [
        "## Building a MODEL"
      ],
      "metadata": {
        "id": "jx1j05PEFV9X"
      }
    },
    {
      "cell_type": "markdown",
      "source": [
        "#### Baseline Model"
      ],
      "metadata": {
        "id": "S6-MnuGVFeNA"
      }
    },
    {
      "cell_type": "code",
      "source": [
        "from keras.models import Sequential\n",
        "from keras.layers import LSTM, Dense, Dropout, AdditiveAttention, Permute, Reshape, Multiply\n",
        "\n",
        "model_1 = Sequential()\n",
        "\n",
        "# Adding LSTM layers with return_sequences=True\n",
        "model_1.add(LSTM(units=50, return_sequences=True, input_shape=(X_train.shape[1], 1)))\n",
        "model_1.add(LSTM(units=50, return_sequences=True))\n",
        "# Adding self-attention mechanism\n",
        "# The attention mechanism\n",
        "attention = AdditiveAttention(name='attention_weight')\n",
        "# Permute and reshape for compatibility\n",
        "model_1.add(Permute((2, 1)))\n",
        "model_1.add(Reshape((-1, X_train.shape[1])))\n",
        "attention_result = attention([model_1.output, model_1.output])\n",
        "multiply_layer = Multiply()([model_1.output, attention_result])\n",
        "# Return to original shape\n",
        "model_1.add(Permute((2, 1)))\n",
        "model_1.add(Reshape((-1, 50)))\n",
        "\n",
        "# Adding a Flatten layer before the final Dense layer\n",
        "model_1.add(tf.keras.layers.Flatten())\n",
        "\n",
        "# Final Dense layer\n",
        "model_1.add(Dense(1))"
      ],
      "metadata": {
        "id": "7G92Z1DuFhKu"
      },
      "execution_count": 53,
      "outputs": []
    },
    {
      "cell_type": "code",
      "source": [
        "model_1.compile(\n",
        "    loss = tf.keras.losses.mean_squared_error,\n",
        "    optimizer = tf.keras.optimizers.Adam(),\n",
        "    metrics = ['mean_squared_error','mean_absolute_error']\n",
        ")"
      ],
      "metadata": {
        "id": "OJmuBxMs1KAd"
      },
      "execution_count": 54,
      "outputs": []
    },
    {
      "cell_type": "code",
      "source": [
        "model_1.fit(X_train,\n",
        "            y_train,\n",
        "            epochs = 30,\n",
        "            validation_split = 0.2,\n",
        "            batch_size = 25)"
      ],
      "metadata": {
        "colab": {
          "base_uri": "https://localhost:8080/"
        },
        "id": "9vWCXmTWsMYB",
        "outputId": "f139cc13-dfe8-4545-9def-dcb5d302205f"
      },
      "execution_count": 55,
      "outputs": [
        {
          "output_type": "stream",
          "name": "stdout",
          "text": [
            "Epoch 1/30\n",
            "25/25 [==============================] - 6s 93ms/step - loss: 0.0446 - mean_squared_error: 0.0446 - mean_absolute_error: 0.1477 - val_loss: 0.0052 - val_mean_squared_error: 0.0052 - val_mean_absolute_error: 0.0609\n",
            "Epoch 2/30\n",
            "25/25 [==============================] - 1s 50ms/step - loss: 0.0072 - mean_squared_error: 0.0072 - mean_absolute_error: 0.0656 - val_loss: 0.0066 - val_mean_squared_error: 0.0066 - val_mean_absolute_error: 0.0671\n",
            "Epoch 3/30\n",
            "25/25 [==============================] - 2s 83ms/step - loss: 0.0054 - mean_squared_error: 0.0054 - mean_absolute_error: 0.0572 - val_loss: 0.0051 - val_mean_squared_error: 0.0051 - val_mean_absolute_error: 0.0596\n",
            "Epoch 4/30\n",
            "25/25 [==============================] - 1s 59ms/step - loss: 0.0051 - mean_squared_error: 0.0051 - mean_absolute_error: 0.0555 - val_loss: 0.0048 - val_mean_squared_error: 0.0048 - val_mean_absolute_error: 0.0575\n",
            "Epoch 5/30\n",
            "25/25 [==============================] - 1s 50ms/step - loss: 0.0049 - mean_squared_error: 0.0049 - mean_absolute_error: 0.0549 - val_loss: 0.0047 - val_mean_squared_error: 0.0047 - val_mean_absolute_error: 0.0576\n",
            "Epoch 6/30\n",
            "25/25 [==============================] - 1s 50ms/step - loss: 0.0047 - mean_squared_error: 0.0047 - mean_absolute_error: 0.0532 - val_loss: 0.0039 - val_mean_squared_error: 0.0039 - val_mean_absolute_error: 0.0526\n",
            "Epoch 7/30\n",
            "25/25 [==============================] - 1s 52ms/step - loss: 0.0041 - mean_squared_error: 0.0041 - mean_absolute_error: 0.0498 - val_loss: 0.0036 - val_mean_squared_error: 0.0036 - val_mean_absolute_error: 0.0506\n",
            "Epoch 8/30\n",
            "25/25 [==============================] - 1s 50ms/step - loss: 0.0043 - mean_squared_error: 0.0043 - mean_absolute_error: 0.0515 - val_loss: 0.0063 - val_mean_squared_error: 0.0063 - val_mean_absolute_error: 0.0651\n",
            "Epoch 9/30\n",
            "25/25 [==============================] - 1s 50ms/step - loss: 0.0037 - mean_squared_error: 0.0037 - mean_absolute_error: 0.0480 - val_loss: 0.0034 - val_mean_squared_error: 0.0034 - val_mean_absolute_error: 0.0487\n",
            "Epoch 10/30\n",
            "25/25 [==============================] - 1s 52ms/step - loss: 0.0031 - mean_squared_error: 0.0031 - mean_absolute_error: 0.0437 - val_loss: 0.0032 - val_mean_squared_error: 0.0032 - val_mean_absolute_error: 0.0476\n",
            "Epoch 11/30\n",
            "25/25 [==============================] - 1s 50ms/step - loss: 0.0033 - mean_squared_error: 0.0033 - mean_absolute_error: 0.0452 - val_loss: 0.0029 - val_mean_squared_error: 0.0029 - val_mean_absolute_error: 0.0446\n",
            "Epoch 12/30\n",
            "25/25 [==============================] - 2s 75ms/step - loss: 0.0030 - mean_squared_error: 0.0030 - mean_absolute_error: 0.0425 - val_loss: 0.0036 - val_mean_squared_error: 0.0036 - val_mean_absolute_error: 0.0503\n",
            "Epoch 13/30\n",
            "25/25 [==============================] - 2s 70ms/step - loss: 0.0026 - mean_squared_error: 0.0026 - mean_absolute_error: 0.0408 - val_loss: 0.0028 - val_mean_squared_error: 0.0028 - val_mean_absolute_error: 0.0436\n",
            "Epoch 14/30\n",
            "25/25 [==============================] - 1s 52ms/step - loss: 0.0025 - mean_squared_error: 0.0025 - mean_absolute_error: 0.0393 - val_loss: 0.0025 - val_mean_squared_error: 0.0025 - val_mean_absolute_error: 0.0419\n",
            "Epoch 15/30\n",
            "25/25 [==============================] - 1s 52ms/step - loss: 0.0022 - mean_squared_error: 0.0022 - mean_absolute_error: 0.0381 - val_loss: 0.0028 - val_mean_squared_error: 0.0028 - val_mean_absolute_error: 0.0440\n",
            "Epoch 16/30\n",
            "25/25 [==============================] - 1s 50ms/step - loss: 0.0022 - mean_squared_error: 0.0022 - mean_absolute_error: 0.0370 - val_loss: 0.0023 - val_mean_squared_error: 0.0023 - val_mean_absolute_error: 0.0406\n",
            "Epoch 17/30\n",
            "25/25 [==============================] - 1s 52ms/step - loss: 0.0022 - mean_squared_error: 0.0022 - mean_absolute_error: 0.0361 - val_loss: 0.0041 - val_mean_squared_error: 0.0041 - val_mean_absolute_error: 0.0533\n",
            "Epoch 18/30\n",
            "25/25 [==============================] - 1s 52ms/step - loss: 0.0026 - mean_squared_error: 0.0026 - mean_absolute_error: 0.0402 - val_loss: 0.0024 - val_mean_squared_error: 0.0024 - val_mean_absolute_error: 0.0419\n",
            "Epoch 19/30\n",
            "25/25 [==============================] - 1s 50ms/step - loss: 0.0023 - mean_squared_error: 0.0023 - mean_absolute_error: 0.0377 - val_loss: 0.0026 - val_mean_squared_error: 0.0026 - val_mean_absolute_error: 0.0416\n",
            "Epoch 20/30\n",
            "25/25 [==============================] - 1s 52ms/step - loss: 0.0020 - mean_squared_error: 0.0020 - mean_absolute_error: 0.0357 - val_loss: 0.0025 - val_mean_squared_error: 0.0025 - val_mean_absolute_error: 0.0426\n",
            "Epoch 21/30\n",
            "25/25 [==============================] - 2s 73ms/step - loss: 0.0019 - mean_squared_error: 0.0019 - mean_absolute_error: 0.0341 - val_loss: 0.0038 - val_mean_squared_error: 0.0038 - val_mean_absolute_error: 0.0496\n",
            "Epoch 22/30\n",
            "25/25 [==============================] - 2s 72ms/step - loss: 0.0020 - mean_squared_error: 0.0020 - mean_absolute_error: 0.0353 - val_loss: 0.0021 - val_mean_squared_error: 0.0021 - val_mean_absolute_error: 0.0375\n",
            "Epoch 23/30\n",
            "25/25 [==============================] - 1s 51ms/step - loss: 0.0019 - mean_squared_error: 0.0019 - mean_absolute_error: 0.0336 - val_loss: 0.0037 - val_mean_squared_error: 0.0037 - val_mean_absolute_error: 0.0485\n",
            "Epoch 24/30\n",
            "25/25 [==============================] - 1s 52ms/step - loss: 0.0020 - mean_squared_error: 0.0020 - mean_absolute_error: 0.0351 - val_loss: 0.0022 - val_mean_squared_error: 0.0022 - val_mean_absolute_error: 0.0404\n",
            "Epoch 25/30\n",
            "25/25 [==============================] - 1s 51ms/step - loss: 0.0024 - mean_squared_error: 0.0024 - mean_absolute_error: 0.0383 - val_loss: 0.0036 - val_mean_squared_error: 0.0036 - val_mean_absolute_error: 0.0507\n",
            "Epoch 26/30\n",
            "25/25 [==============================] - 1s 51ms/step - loss: 0.0025 - mean_squared_error: 0.0025 - mean_absolute_error: 0.0393 - val_loss: 0.0018 - val_mean_squared_error: 0.0018 - val_mean_absolute_error: 0.0348\n",
            "Epoch 27/30\n",
            "25/25 [==============================] - 1s 50ms/step - loss: 0.0018 - mean_squared_error: 0.0018 - mean_absolute_error: 0.0327 - val_loss: 0.0023 - val_mean_squared_error: 0.0023 - val_mean_absolute_error: 0.0387\n",
            "Epoch 28/30\n",
            "25/25 [==============================] - 1s 52ms/step - loss: 0.0017 - mean_squared_error: 0.0017 - mean_absolute_error: 0.0315 - val_loss: 0.0035 - val_mean_squared_error: 0.0035 - val_mean_absolute_error: 0.0464\n",
            "Epoch 29/30\n",
            "25/25 [==============================] - 1s 53ms/step - loss: 0.0017 - mean_squared_error: 0.0017 - mean_absolute_error: 0.0330 - val_loss: 0.0023 - val_mean_squared_error: 0.0023 - val_mean_absolute_error: 0.0376\n",
            "Epoch 30/30\n",
            "25/25 [==============================] - 2s 74ms/step - loss: 0.0016 - mean_squared_error: 0.0016 - mean_absolute_error: 0.0305 - val_loss: 0.0018 - val_mean_squared_error: 0.0018 - val_mean_absolute_error: 0.0342\n"
          ]
        },
        {
          "output_type": "execute_result",
          "data": {
            "text/plain": [
              "<keras.src.callbacks.History at 0x7ea46f096170>"
            ]
          },
          "metadata": {},
          "execution_count": 55
        }
      ]
    },
    {
      "cell_type": "code",
      "source": [
        "X_test = np.array(X_test)\n",
        "y_test = np.array(y_test)\n",
        "X_test = np.reshape(X_test,(X_test.shape[0],X_test.shape[1],1))\n",
        "X_test.shape"
      ],
      "metadata": {
        "id": "sBOUzwuMtpIq",
        "colab": {
          "base_uri": "https://localhost:8080/"
        },
        "outputId": "d856a59a-f94a-4741-81a5-588bd74ff71e"
      },
      "execution_count": 57,
      "outputs": [
        {
          "output_type": "execute_result",
          "data": {
            "text/plain": [
              "(190, 60, 1)"
            ]
          },
          "metadata": {},
          "execution_count": 57
        }
      ]
    },
    {
      "cell_type": "code",
      "source": [
        "test_loss = model_1.evaluate(X_test,y_test)\n",
        "test_loss"
      ],
      "metadata": {
        "colab": {
          "base_uri": "https://localhost:8080/"
        },
        "id": "BkWDhFUmscqo",
        "outputId": "b711419a-5375-4900-9ca3-fdff526f7774"
      },
      "execution_count": 58,
      "outputs": [
        {
          "output_type": "stream",
          "name": "stdout",
          "text": [
            "6/6 [==============================] - 0s 17ms/step - loss: 0.0014 - mean_squared_error: 0.0014 - mean_absolute_error: 0.0301\n"
          ]
        },
        {
          "output_type": "execute_result",
          "data": {
            "text/plain": [
              "[0.001414355356246233, 0.001414355356246233, 0.03013734333217144]"
            ]
          },
          "metadata": {},
          "execution_count": 58
        }
      ]
    },
    {
      "cell_type": "markdown",
      "source": [
        "## Performance Metrics"
      ],
      "metadata": {
        "id": "56pakZMHtmjb"
      }
    },
    {
      "cell_type": "code",
      "source": [
        "from sklearn.metrics import mean_absolute_error,mean_squared_error\n",
        "\n",
        "y_preds = model_1.predict(X_test)\n",
        "\n",
        "mae = mean_absolute_error(y_test,y_preds)\n",
        "mse = mean_squared_error(y_test,y_preds)\n",
        "\n",
        "print(\"Mean absolute error:\",mae),\n",
        "print(\"Mean Square Error:\",mse)"
      ],
      "metadata": {
        "colab": {
          "base_uri": "https://localhost:8080/"
        },
        "id": "FbFmKeO9BEMT",
        "outputId": "165b96de-aea3-476b-b13f-895d4f94a666"
      },
      "execution_count": 59,
      "outputs": [
        {
          "output_type": "stream",
          "name": "stdout",
          "text": [
            "6/6 [==============================] - 1s 16ms/step\n",
            "Mean absolute error: 0.03013735836830103\n",
            "Mean Square Error: 0.0014143559350476807\n"
          ]
        }
      ]
    },
    {
      "cell_type": "markdown",
      "source": [
        "## Improving the model"
      ],
      "metadata": {
        "id": "2e3imN_9BlQx"
      }
    },
    {
      "cell_type": "code",
      "source": [
        "from keras.models import Sequential\n",
        "from keras.layers import LSTM, Dense, Dropout, AdditiveAttention, Permute, Reshape, Multiply\n",
        "\n",
        "model_2 = Sequential()\n",
        "model_2.add(LSTM(units = 100,return_sequences = True,input_shape = (X_train.shape[1],1)))\n",
        "model_2.add(Dropout(0.2))\n",
        "model_2.add(LSTM(units = 100,return_sequences = True))\n",
        "model_2.add(Dropout(0.2))\n",
        "model_2.add(LSTM(units = 100,return_sequences = True,input_shape = (X_train.shape[1],1)))\n",
        "model_2.add(Dropout(0.2))\n",
        "model_2.add(LSTM(units = 100,return_sequences = True))\n",
        "model_2.add(Dropout(0.2))\n",
        "model_2.add(tf.keras.layers.Flatten())\n",
        "model_2.add(Dense(1))"
      ],
      "metadata": {
        "id": "VR-H0XJHCAbA"
      },
      "execution_count": 60,
      "outputs": []
    },
    {
      "cell_type": "code",
      "source": [
        "model_2.compile(\n",
        "   loss = tf.keras.losses.mean_squared_error,\n",
        "   optimizer = tf.keras.optimizers.Adam(),\n",
        "   metrics = ['mean_squared_error','mean_absolute_error']\n",
        ")"
      ],
      "metadata": {
        "id": "51iA99sGClu8"
      },
      "execution_count": 61,
      "outputs": []
    },
    {
      "cell_type": "code",
      "source": [
        "history_2 = model_2.fit(\n",
        "    X_train,\n",
        "    y_train,\n",
        "    epochs = 30,\n",
        "    batch_size = 25,\n",
        "    validation_split = 0.2,\n",
        ")"
      ],
      "metadata": {
        "colab": {
          "base_uri": "https://localhost:8080/"
        },
        "id": "83l_trWOC-9S",
        "outputId": "9fb836b3-7554-4318-a89b-a4da7a7c52b3"
      },
      "execution_count": 62,
      "outputs": [
        {
          "output_type": "stream",
          "name": "stdout",
          "text": [
            "Epoch 1/30\n",
            "25/25 [==============================] - 15s 263ms/step - loss: 0.0561 - mean_squared_error: 0.0561 - mean_absolute_error: 0.1830 - val_loss: 0.0196 - val_mean_squared_error: 0.0196 - val_mean_absolute_error: 0.1189\n",
            "Epoch 2/30\n",
            "25/25 [==============================] - 4s 162ms/step - loss: 0.0096 - mean_squared_error: 0.0096 - mean_absolute_error: 0.0779 - val_loss: 0.0069 - val_mean_squared_error: 0.0069 - val_mean_absolute_error: 0.0700\n",
            "Epoch 3/30\n",
            "25/25 [==============================] - 5s 207ms/step - loss: 0.0071 - mean_squared_error: 0.0071 - mean_absolute_error: 0.0663 - val_loss: 0.0061 - val_mean_squared_error: 0.0061 - val_mean_absolute_error: 0.0662\n",
            "Epoch 4/30\n",
            "25/25 [==============================] - 4s 163ms/step - loss: 0.0072 - mean_squared_error: 0.0072 - mean_absolute_error: 0.0663 - val_loss: 0.0059 - val_mean_squared_error: 0.0059 - val_mean_absolute_error: 0.0639\n",
            "Epoch 5/30\n",
            "25/25 [==============================] - 5s 203ms/step - loss: 0.0071 - mean_squared_error: 0.0071 - mean_absolute_error: 0.0659 - val_loss: 0.0055 - val_mean_squared_error: 0.0055 - val_mean_absolute_error: 0.0621\n",
            "Epoch 6/30\n",
            "25/25 [==============================] - 5s 202ms/step - loss: 0.0061 - mean_squared_error: 0.0061 - mean_absolute_error: 0.0614 - val_loss: 0.0072 - val_mean_squared_error: 0.0072 - val_mean_absolute_error: 0.0694\n",
            "Epoch 7/30\n",
            "25/25 [==============================] - 4s 168ms/step - loss: 0.0062 - mean_squared_error: 0.0062 - mean_absolute_error: 0.0614 - val_loss: 0.0062 - val_mean_squared_error: 0.0062 - val_mean_absolute_error: 0.0640\n",
            "Epoch 8/30\n",
            "25/25 [==============================] - 7s 287ms/step - loss: 0.0053 - mean_squared_error: 0.0053 - mean_absolute_error: 0.0576 - val_loss: 0.0043 - val_mean_squared_error: 0.0043 - val_mean_absolute_error: 0.0552\n",
            "Epoch 9/30\n",
            "25/25 [==============================] - 4s 163ms/step - loss: 0.0062 - mean_squared_error: 0.0062 - mean_absolute_error: 0.0607 - val_loss: 0.0066 - val_mean_squared_error: 0.0066 - val_mean_absolute_error: 0.0661\n",
            "Epoch 10/30\n",
            "25/25 [==============================] - 4s 161ms/step - loss: 0.0052 - mean_squared_error: 0.0052 - mean_absolute_error: 0.0567 - val_loss: 0.0038 - val_mean_squared_error: 0.0038 - val_mean_absolute_error: 0.0520\n",
            "Epoch 11/30\n",
            "25/25 [==============================] - 5s 207ms/step - loss: 0.0045 - mean_squared_error: 0.0045 - mean_absolute_error: 0.0527 - val_loss: 0.0039 - val_mean_squared_error: 0.0039 - val_mean_absolute_error: 0.0521\n",
            "Epoch 12/30\n",
            "25/25 [==============================] - 4s 162ms/step - loss: 0.0046 - mean_squared_error: 0.0046 - mean_absolute_error: 0.0525 - val_loss: 0.0042 - val_mean_squared_error: 0.0042 - val_mean_absolute_error: 0.0540\n",
            "Epoch 13/30\n",
            "25/25 [==============================] - 4s 164ms/step - loss: 0.0038 - mean_squared_error: 0.0038 - mean_absolute_error: 0.0481 - val_loss: 0.0066 - val_mean_squared_error: 0.0066 - val_mean_absolute_error: 0.0688\n",
            "Epoch 14/30\n",
            "25/25 [==============================] - 5s 209ms/step - loss: 0.0039 - mean_squared_error: 0.0039 - mean_absolute_error: 0.0493 - val_loss: 0.0031 - val_mean_squared_error: 0.0031 - val_mean_absolute_error: 0.0461\n",
            "Epoch 15/30\n",
            "25/25 [==============================] - 4s 165ms/step - loss: 0.0038 - mean_squared_error: 0.0038 - mean_absolute_error: 0.0485 - val_loss: 0.0036 - val_mean_squared_error: 0.0036 - val_mean_absolute_error: 0.0500\n",
            "Epoch 16/30\n",
            "25/25 [==============================] - 5s 181ms/step - loss: 0.0039 - mean_squared_error: 0.0039 - mean_absolute_error: 0.0495 - val_loss: 0.0029 - val_mean_squared_error: 0.0029 - val_mean_absolute_error: 0.0446\n",
            "Epoch 17/30\n",
            "25/25 [==============================] - 5s 189ms/step - loss: 0.0038 - mean_squared_error: 0.0038 - mean_absolute_error: 0.0484 - val_loss: 0.0044 - val_mean_squared_error: 0.0044 - val_mean_absolute_error: 0.0547\n",
            "Epoch 18/30\n",
            "25/25 [==============================] - 4s 165ms/step - loss: 0.0039 - mean_squared_error: 0.0039 - mean_absolute_error: 0.0504 - val_loss: 0.0038 - val_mean_squared_error: 0.0038 - val_mean_absolute_error: 0.0503\n",
            "Epoch 19/30\n",
            "25/25 [==============================] - 5s 192ms/step - loss: 0.0044 - mean_squared_error: 0.0044 - mean_absolute_error: 0.0530 - val_loss: 0.0033 - val_mean_squared_error: 0.0033 - val_mean_absolute_error: 0.0478\n",
            "Epoch 20/30\n",
            "25/25 [==============================] - 4s 171ms/step - loss: 0.0042 - mean_squared_error: 0.0042 - mean_absolute_error: 0.0511 - val_loss: 0.0037 - val_mean_squared_error: 0.0037 - val_mean_absolute_error: 0.0507\n",
            "Epoch 21/30\n",
            "25/25 [==============================] - 4s 163ms/step - loss: 0.0029 - mean_squared_error: 0.0029 - mean_absolute_error: 0.0434 - val_loss: 0.0036 - val_mean_squared_error: 0.0036 - val_mean_absolute_error: 0.0495\n",
            "Epoch 22/30\n",
            "25/25 [==============================] - 5s 218ms/step - loss: 0.0029 - mean_squared_error: 0.0029 - mean_absolute_error: 0.0439 - val_loss: 0.0024 - val_mean_squared_error: 0.0024 - val_mean_absolute_error: 0.0416\n",
            "Epoch 23/30\n",
            "25/25 [==============================] - 4s 166ms/step - loss: 0.0037 - mean_squared_error: 0.0037 - mean_absolute_error: 0.0479 - val_loss: 0.0026 - val_mean_squared_error: 0.0026 - val_mean_absolute_error: 0.0432\n",
            "Epoch 24/30\n",
            "25/25 [==============================] - 4s 164ms/step - loss: 0.0031 - mean_squared_error: 0.0031 - mean_absolute_error: 0.0436 - val_loss: 0.0023 - val_mean_squared_error: 0.0023 - val_mean_absolute_error: 0.0408\n",
            "Epoch 25/30\n",
            "25/25 [==============================] - 5s 208ms/step - loss: 0.0027 - mean_squared_error: 0.0027 - mean_absolute_error: 0.0415 - val_loss: 0.0022 - val_mean_squared_error: 0.0022 - val_mean_absolute_error: 0.0401\n",
            "Epoch 26/30\n",
            "25/25 [==============================] - 4s 164ms/step - loss: 0.0036 - mean_squared_error: 0.0036 - mean_absolute_error: 0.0479 - val_loss: 0.0069 - val_mean_squared_error: 0.0069 - val_mean_absolute_error: 0.0699\n",
            "Epoch 27/30\n",
            "25/25 [==============================] - 4s 163ms/step - loss: 0.0036 - mean_squared_error: 0.0036 - mean_absolute_error: 0.0473 - val_loss: 0.0087 - val_mean_squared_error: 0.0087 - val_mean_absolute_error: 0.0816\n",
            "Epoch 28/30\n",
            "25/25 [==============================] - 5s 207ms/step - loss: 0.0046 - mean_squared_error: 0.0046 - mean_absolute_error: 0.0537 - val_loss: 0.0024 - val_mean_squared_error: 0.0024 - val_mean_absolute_error: 0.0394\n",
            "Epoch 29/30\n",
            "25/25 [==============================] - 4s 176ms/step - loss: 0.0037 - mean_squared_error: 0.0037 - mean_absolute_error: 0.0483 - val_loss: 0.0022 - val_mean_squared_error: 0.0022 - val_mean_absolute_error: 0.0399\n",
            "Epoch 30/30\n",
            "25/25 [==============================] - 4s 171ms/step - loss: 0.0025 - mean_squared_error: 0.0025 - mean_absolute_error: 0.0392 - val_loss: 0.0029 - val_mean_squared_error: 0.0029 - val_mean_absolute_error: 0.0425\n"
          ]
        }
      ]
    },
    {
      "cell_type": "code",
      "source": [
        "model_2.evaluate(X_test,y_test)"
      ],
      "metadata": {
        "colab": {
          "base_uri": "https://localhost:8080/"
        },
        "id": "CR5cR_DxDFxO",
        "outputId": "9635d216-d86e-4b18-f79c-a0f2cc436253"
      },
      "execution_count": 64,
      "outputs": [
        {
          "output_type": "stream",
          "name": "stdout",
          "text": [
            "6/6 [==============================] - 0s 58ms/step - loss: 0.0015 - mean_squared_error: 0.0015 - mean_absolute_error: 0.0311\n"
          ]
        },
        {
          "output_type": "execute_result",
          "data": {
            "text/plain": [
              "[0.001483336091041565, 0.001483336091041565, 0.03113434463739395]"
            ]
          },
          "metadata": {},
          "execution_count": 64
        }
      ]
    },
    {
      "cell_type": "markdown",
      "source": [
        "## Making Predictions"
      ],
      "metadata": {
        "id": "FsSN5g66IMmT"
      }
    },
    {
      "cell_type": "markdown",
      "source": [
        "model_2:\n",
        "loss: 0.0015 - mean_squared_error: 0.0015 - mean_absolute_error: 0.0311\n",
        "[0.001483336091041565, 0.001483336091041565, 0.03113434463739395]\n",
        "\n",
        "model_1:\n",
        "6/6 [==============================] - 0s 17ms/step - loss: 0.0014 - mean_squared_error: 0.0014 - mean_absolute_error: 0.0301\n",
        "[0.001414355356246233, 0.001414355356246233, 0.03013734333217144]"
      ],
      "metadata": {
        "id": "kY-M_Vwd8VGx"
      }
    },
    {
      "cell_type": "code",
      "source": [
        "test_data = yf.download('AAPL',start = '2020-01-01',end = '2024-04-27')\n",
        "test_data"
      ],
      "metadata": {
        "colab": {
          "base_uri": "https://localhost:8080/",
          "height": 472
        },
        "id": "2TsHGE_QLOei",
        "outputId": "c2686705-0bb7-471a-ed0b-effe8689e726"
      },
      "execution_count": 67,
      "outputs": [
        {
          "output_type": "stream",
          "name": "stderr",
          "text": [
            "\r[*********************100%%**********************]  1 of 1 completed\n"
          ]
        },
        {
          "output_type": "execute_result",
          "data": {
            "text/plain": [
              "                  Open        High         Low       Close   Adj Close  \\\n",
              "Date                                                                     \n",
              "2020-01-02   74.059998   75.150002   73.797501   75.087502   73.059433   \n",
              "2020-01-03   74.287498   75.144997   74.125000   74.357498   72.349152   \n",
              "2020-01-06   73.447502   74.989998   73.187500   74.949997   72.925636   \n",
              "2020-01-07   74.959999   75.224998   74.370003   74.597504   72.582680   \n",
              "2020-01-08   74.290001   76.110001   74.290001   75.797501   73.750252   \n",
              "...                ...         ...         ...         ...         ...   \n",
              "2024-04-22  165.520004  167.259995  164.770004  165.839996  165.839996   \n",
              "2024-04-23  165.350006  167.050003  164.919998  166.899994  166.899994   \n",
              "2024-04-24  166.539993  169.300003  166.210007  169.020004  169.020004   \n",
              "2024-04-25  169.529999  170.610001  168.149994  169.889999  169.889999   \n",
              "2024-04-26  169.880005  171.339996  169.179993  169.300003  169.300003   \n",
              "\n",
              "               Volume  \n",
              "Date                   \n",
              "2020-01-02  135480400  \n",
              "2020-01-03  146322800  \n",
              "2020-01-06  118387200  \n",
              "2020-01-07  108872000  \n",
              "2020-01-08  132079200  \n",
              "...               ...  \n",
              "2024-04-22   48116400  \n",
              "2024-04-23   49537800  \n",
              "2024-04-24   48251800  \n",
              "2024-04-25   50558300  \n",
              "2024-04-26   44525100  \n",
              "\n",
              "[1087 rows x 6 columns]"
            ],
            "text/html": [
              "\n",
              "  <div id=\"df-661b114d-d0ec-4cd1-bfb2-be5fe3115072\" class=\"colab-df-container\">\n",
              "    <div>\n",
              "<style scoped>\n",
              "    .dataframe tbody tr th:only-of-type {\n",
              "        vertical-align: middle;\n",
              "    }\n",
              "\n",
              "    .dataframe tbody tr th {\n",
              "        vertical-align: top;\n",
              "    }\n",
              "\n",
              "    .dataframe thead th {\n",
              "        text-align: right;\n",
              "    }\n",
              "</style>\n",
              "<table border=\"1\" class=\"dataframe\">\n",
              "  <thead>\n",
              "    <tr style=\"text-align: right;\">\n",
              "      <th></th>\n",
              "      <th>Open</th>\n",
              "      <th>High</th>\n",
              "      <th>Low</th>\n",
              "      <th>Close</th>\n",
              "      <th>Adj Close</th>\n",
              "      <th>Volume</th>\n",
              "    </tr>\n",
              "    <tr>\n",
              "      <th>Date</th>\n",
              "      <th></th>\n",
              "      <th></th>\n",
              "      <th></th>\n",
              "      <th></th>\n",
              "      <th></th>\n",
              "      <th></th>\n",
              "    </tr>\n",
              "  </thead>\n",
              "  <tbody>\n",
              "    <tr>\n",
              "      <th>2020-01-02</th>\n",
              "      <td>74.059998</td>\n",
              "      <td>75.150002</td>\n",
              "      <td>73.797501</td>\n",
              "      <td>75.087502</td>\n",
              "      <td>73.059433</td>\n",
              "      <td>135480400</td>\n",
              "    </tr>\n",
              "    <tr>\n",
              "      <th>2020-01-03</th>\n",
              "      <td>74.287498</td>\n",
              "      <td>75.144997</td>\n",
              "      <td>74.125000</td>\n",
              "      <td>74.357498</td>\n",
              "      <td>72.349152</td>\n",
              "      <td>146322800</td>\n",
              "    </tr>\n",
              "    <tr>\n",
              "      <th>2020-01-06</th>\n",
              "      <td>73.447502</td>\n",
              "      <td>74.989998</td>\n",
              "      <td>73.187500</td>\n",
              "      <td>74.949997</td>\n",
              "      <td>72.925636</td>\n",
              "      <td>118387200</td>\n",
              "    </tr>\n",
              "    <tr>\n",
              "      <th>2020-01-07</th>\n",
              "      <td>74.959999</td>\n",
              "      <td>75.224998</td>\n",
              "      <td>74.370003</td>\n",
              "      <td>74.597504</td>\n",
              "      <td>72.582680</td>\n",
              "      <td>108872000</td>\n",
              "    </tr>\n",
              "    <tr>\n",
              "      <th>2020-01-08</th>\n",
              "      <td>74.290001</td>\n",
              "      <td>76.110001</td>\n",
              "      <td>74.290001</td>\n",
              "      <td>75.797501</td>\n",
              "      <td>73.750252</td>\n",
              "      <td>132079200</td>\n",
              "    </tr>\n",
              "    <tr>\n",
              "      <th>...</th>\n",
              "      <td>...</td>\n",
              "      <td>...</td>\n",
              "      <td>...</td>\n",
              "      <td>...</td>\n",
              "      <td>...</td>\n",
              "      <td>...</td>\n",
              "    </tr>\n",
              "    <tr>\n",
              "      <th>2024-04-22</th>\n",
              "      <td>165.520004</td>\n",
              "      <td>167.259995</td>\n",
              "      <td>164.770004</td>\n",
              "      <td>165.839996</td>\n",
              "      <td>165.839996</td>\n",
              "      <td>48116400</td>\n",
              "    </tr>\n",
              "    <tr>\n",
              "      <th>2024-04-23</th>\n",
              "      <td>165.350006</td>\n",
              "      <td>167.050003</td>\n",
              "      <td>164.919998</td>\n",
              "      <td>166.899994</td>\n",
              "      <td>166.899994</td>\n",
              "      <td>49537800</td>\n",
              "    </tr>\n",
              "    <tr>\n",
              "      <th>2024-04-24</th>\n",
              "      <td>166.539993</td>\n",
              "      <td>169.300003</td>\n",
              "      <td>166.210007</td>\n",
              "      <td>169.020004</td>\n",
              "      <td>169.020004</td>\n",
              "      <td>48251800</td>\n",
              "    </tr>\n",
              "    <tr>\n",
              "      <th>2024-04-25</th>\n",
              "      <td>169.529999</td>\n",
              "      <td>170.610001</td>\n",
              "      <td>168.149994</td>\n",
              "      <td>169.889999</td>\n",
              "      <td>169.889999</td>\n",
              "      <td>50558300</td>\n",
              "    </tr>\n",
              "    <tr>\n",
              "      <th>2024-04-26</th>\n",
              "      <td>169.880005</td>\n",
              "      <td>171.339996</td>\n",
              "      <td>169.179993</td>\n",
              "      <td>169.300003</td>\n",
              "      <td>169.300003</td>\n",
              "      <td>44525100</td>\n",
              "    </tr>\n",
              "  </tbody>\n",
              "</table>\n",
              "<p>1087 rows × 6 columns</p>\n",
              "</div>\n",
              "    <div class=\"colab-df-buttons\">\n",
              "\n",
              "  <div class=\"colab-df-container\">\n",
              "    <button class=\"colab-df-convert\" onclick=\"convertToInteractive('df-661b114d-d0ec-4cd1-bfb2-be5fe3115072')\"\n",
              "            title=\"Convert this dataframe to an interactive table.\"\n",
              "            style=\"display:none;\">\n",
              "\n",
              "  <svg xmlns=\"http://www.w3.org/2000/svg\" height=\"24px\" viewBox=\"0 -960 960 960\">\n",
              "    <path d=\"M120-120v-720h720v720H120Zm60-500h600v-160H180v160Zm220 220h160v-160H400v160Zm0 220h160v-160H400v160ZM180-400h160v-160H180v160Zm440 0h160v-160H620v160ZM180-180h160v-160H180v160Zm440 0h160v-160H620v160Z\"/>\n",
              "  </svg>\n",
              "    </button>\n",
              "\n",
              "  <style>\n",
              "    .colab-df-container {\n",
              "      display:flex;\n",
              "      gap: 12px;\n",
              "    }\n",
              "\n",
              "    .colab-df-convert {\n",
              "      background-color: #E8F0FE;\n",
              "      border: none;\n",
              "      border-radius: 50%;\n",
              "      cursor: pointer;\n",
              "      display: none;\n",
              "      fill: #1967D2;\n",
              "      height: 32px;\n",
              "      padding: 0 0 0 0;\n",
              "      width: 32px;\n",
              "    }\n",
              "\n",
              "    .colab-df-convert:hover {\n",
              "      background-color: #E2EBFA;\n",
              "      box-shadow: 0px 1px 2px rgba(60, 64, 67, 0.3), 0px 1px 3px 1px rgba(60, 64, 67, 0.15);\n",
              "      fill: #174EA6;\n",
              "    }\n",
              "\n",
              "    .colab-df-buttons div {\n",
              "      margin-bottom: 4px;\n",
              "    }\n",
              "\n",
              "    [theme=dark] .colab-df-convert {\n",
              "      background-color: #3B4455;\n",
              "      fill: #D2E3FC;\n",
              "    }\n",
              "\n",
              "    [theme=dark] .colab-df-convert:hover {\n",
              "      background-color: #434B5C;\n",
              "      box-shadow: 0px 1px 3px 1px rgba(0, 0, 0, 0.15);\n",
              "      filter: drop-shadow(0px 1px 2px rgba(0, 0, 0, 0.3));\n",
              "      fill: #FFFFFF;\n",
              "    }\n",
              "  </style>\n",
              "\n",
              "    <script>\n",
              "      const buttonEl =\n",
              "        document.querySelector('#df-661b114d-d0ec-4cd1-bfb2-be5fe3115072 button.colab-df-convert');\n",
              "      buttonEl.style.display =\n",
              "        google.colab.kernel.accessAllowed ? 'block' : 'none';\n",
              "\n",
              "      async function convertToInteractive(key) {\n",
              "        const element = document.querySelector('#df-661b114d-d0ec-4cd1-bfb2-be5fe3115072');\n",
              "        const dataTable =\n",
              "          await google.colab.kernel.invokeFunction('convertToInteractive',\n",
              "                                                    [key], {});\n",
              "        if (!dataTable) return;\n",
              "\n",
              "        const docLinkHtml = 'Like what you see? Visit the ' +\n",
              "          '<a target=\"_blank\" href=https://colab.research.google.com/notebooks/data_table.ipynb>data table notebook</a>'\n",
              "          + ' to learn more about interactive tables.';\n",
              "        element.innerHTML = '';\n",
              "        dataTable['output_type'] = 'display_data';\n",
              "        await google.colab.output.renderOutput(dataTable, element);\n",
              "        const docLink = document.createElement('div');\n",
              "        docLink.innerHTML = docLinkHtml;\n",
              "        element.appendChild(docLink);\n",
              "      }\n",
              "    </script>\n",
              "  </div>\n",
              "\n",
              "\n",
              "<div id=\"df-2c368fe6-4fc5-4d07-bd55-49f6bd3bab36\">\n",
              "  <button class=\"colab-df-quickchart\" onclick=\"quickchart('df-2c368fe6-4fc5-4d07-bd55-49f6bd3bab36')\"\n",
              "            title=\"Suggest charts\"\n",
              "            style=\"display:none;\">\n",
              "\n",
              "<svg xmlns=\"http://www.w3.org/2000/svg\" height=\"24px\"viewBox=\"0 0 24 24\"\n",
              "     width=\"24px\">\n",
              "    <g>\n",
              "        <path d=\"M19 3H5c-1.1 0-2 .9-2 2v14c0 1.1.9 2 2 2h14c1.1 0 2-.9 2-2V5c0-1.1-.9-2-2-2zM9 17H7v-7h2v7zm4 0h-2V7h2v10zm4 0h-2v-4h2v4z\"/>\n",
              "    </g>\n",
              "</svg>\n",
              "  </button>\n",
              "\n",
              "<style>\n",
              "  .colab-df-quickchart {\n",
              "      --bg-color: #E8F0FE;\n",
              "      --fill-color: #1967D2;\n",
              "      --hover-bg-color: #E2EBFA;\n",
              "      --hover-fill-color: #174EA6;\n",
              "      --disabled-fill-color: #AAA;\n",
              "      --disabled-bg-color: #DDD;\n",
              "  }\n",
              "\n",
              "  [theme=dark] .colab-df-quickchart {\n",
              "      --bg-color: #3B4455;\n",
              "      --fill-color: #D2E3FC;\n",
              "      --hover-bg-color: #434B5C;\n",
              "      --hover-fill-color: #FFFFFF;\n",
              "      --disabled-bg-color: #3B4455;\n",
              "      --disabled-fill-color: #666;\n",
              "  }\n",
              "\n",
              "  .colab-df-quickchart {\n",
              "    background-color: var(--bg-color);\n",
              "    border: none;\n",
              "    border-radius: 50%;\n",
              "    cursor: pointer;\n",
              "    display: none;\n",
              "    fill: var(--fill-color);\n",
              "    height: 32px;\n",
              "    padding: 0;\n",
              "    width: 32px;\n",
              "  }\n",
              "\n",
              "  .colab-df-quickchart:hover {\n",
              "    background-color: var(--hover-bg-color);\n",
              "    box-shadow: 0 1px 2px rgba(60, 64, 67, 0.3), 0 1px 3px 1px rgba(60, 64, 67, 0.15);\n",
              "    fill: var(--button-hover-fill-color);\n",
              "  }\n",
              "\n",
              "  .colab-df-quickchart-complete:disabled,\n",
              "  .colab-df-quickchart-complete:disabled:hover {\n",
              "    background-color: var(--disabled-bg-color);\n",
              "    fill: var(--disabled-fill-color);\n",
              "    box-shadow: none;\n",
              "  }\n",
              "\n",
              "  .colab-df-spinner {\n",
              "    border: 2px solid var(--fill-color);\n",
              "    border-color: transparent;\n",
              "    border-bottom-color: var(--fill-color);\n",
              "    animation:\n",
              "      spin 1s steps(1) infinite;\n",
              "  }\n",
              "\n",
              "  @keyframes spin {\n",
              "    0% {\n",
              "      border-color: transparent;\n",
              "      border-bottom-color: var(--fill-color);\n",
              "      border-left-color: var(--fill-color);\n",
              "    }\n",
              "    20% {\n",
              "      border-color: transparent;\n",
              "      border-left-color: var(--fill-color);\n",
              "      border-top-color: var(--fill-color);\n",
              "    }\n",
              "    30% {\n",
              "      border-color: transparent;\n",
              "      border-left-color: var(--fill-color);\n",
              "      border-top-color: var(--fill-color);\n",
              "      border-right-color: var(--fill-color);\n",
              "    }\n",
              "    40% {\n",
              "      border-color: transparent;\n",
              "      border-right-color: var(--fill-color);\n",
              "      border-top-color: var(--fill-color);\n",
              "    }\n",
              "    60% {\n",
              "      border-color: transparent;\n",
              "      border-right-color: var(--fill-color);\n",
              "    }\n",
              "    80% {\n",
              "      border-color: transparent;\n",
              "      border-right-color: var(--fill-color);\n",
              "      border-bottom-color: var(--fill-color);\n",
              "    }\n",
              "    90% {\n",
              "      border-color: transparent;\n",
              "      border-bottom-color: var(--fill-color);\n",
              "    }\n",
              "  }\n",
              "</style>\n",
              "\n",
              "  <script>\n",
              "    async function quickchart(key) {\n",
              "      const quickchartButtonEl =\n",
              "        document.querySelector('#' + key + ' button');\n",
              "      quickchartButtonEl.disabled = true;  // To prevent multiple clicks.\n",
              "      quickchartButtonEl.classList.add('colab-df-spinner');\n",
              "      try {\n",
              "        const charts = await google.colab.kernel.invokeFunction(\n",
              "            'suggestCharts', [key], {});\n",
              "      } catch (error) {\n",
              "        console.error('Error during call to suggestCharts:', error);\n",
              "      }\n",
              "      quickchartButtonEl.classList.remove('colab-df-spinner');\n",
              "      quickchartButtonEl.classList.add('colab-df-quickchart-complete');\n",
              "    }\n",
              "    (() => {\n",
              "      let quickchartButtonEl =\n",
              "        document.querySelector('#df-2c368fe6-4fc5-4d07-bd55-49f6bd3bab36 button');\n",
              "      quickchartButtonEl.style.display =\n",
              "        google.colab.kernel.accessAllowed ? 'block' : 'none';\n",
              "    })();\n",
              "  </script>\n",
              "</div>\n",
              "\n",
              "  <div id=\"id_c88058f9-5828-4e72-9a45-763d073017d9\">\n",
              "    <style>\n",
              "      .colab-df-generate {\n",
              "        background-color: #E8F0FE;\n",
              "        border: none;\n",
              "        border-radius: 50%;\n",
              "        cursor: pointer;\n",
              "        display: none;\n",
              "        fill: #1967D2;\n",
              "        height: 32px;\n",
              "        padding: 0 0 0 0;\n",
              "        width: 32px;\n",
              "      }\n",
              "\n",
              "      .colab-df-generate:hover {\n",
              "        background-color: #E2EBFA;\n",
              "        box-shadow: 0px 1px 2px rgba(60, 64, 67, 0.3), 0px 1px 3px 1px rgba(60, 64, 67, 0.15);\n",
              "        fill: #174EA6;\n",
              "      }\n",
              "\n",
              "      [theme=dark] .colab-df-generate {\n",
              "        background-color: #3B4455;\n",
              "        fill: #D2E3FC;\n",
              "      }\n",
              "\n",
              "      [theme=dark] .colab-df-generate:hover {\n",
              "        background-color: #434B5C;\n",
              "        box-shadow: 0px 1px 3px 1px rgba(0, 0, 0, 0.15);\n",
              "        filter: drop-shadow(0px 1px 2px rgba(0, 0, 0, 0.3));\n",
              "        fill: #FFFFFF;\n",
              "      }\n",
              "    </style>\n",
              "    <button class=\"colab-df-generate\" onclick=\"generateWithVariable('test_data')\"\n",
              "            title=\"Generate code using this dataframe.\"\n",
              "            style=\"display:none;\">\n",
              "\n",
              "  <svg xmlns=\"http://www.w3.org/2000/svg\" height=\"24px\"viewBox=\"0 0 24 24\"\n",
              "       width=\"24px\">\n",
              "    <path d=\"M7,19H8.4L18.45,9,17,7.55,7,17.6ZM5,21V16.75L18.45,3.32a2,2,0,0,1,2.83,0l1.4,1.43a1.91,1.91,0,0,1,.58,1.4,1.91,1.91,0,0,1-.58,1.4L9.25,21ZM18.45,9,17,7.55Zm-12,3A5.31,5.31,0,0,0,4.9,8.1,5.31,5.31,0,0,0,1,6.5,5.31,5.31,0,0,0,4.9,4.9,5.31,5.31,0,0,0,6.5,1,5.31,5.31,0,0,0,8.1,4.9,5.31,5.31,0,0,0,12,6.5,5.46,5.46,0,0,0,6.5,12Z\"/>\n",
              "  </svg>\n",
              "    </button>\n",
              "    <script>\n",
              "      (() => {\n",
              "      const buttonEl =\n",
              "        document.querySelector('#id_c88058f9-5828-4e72-9a45-763d073017d9 button.colab-df-generate');\n",
              "      buttonEl.style.display =\n",
              "        google.colab.kernel.accessAllowed ? 'block' : 'none';\n",
              "\n",
              "      buttonEl.onclick = () => {\n",
              "        google.colab.notebook.generateWithVariable('test_data');\n",
              "      }\n",
              "      })();\n",
              "    </script>\n",
              "  </div>\n",
              "\n",
              "    </div>\n",
              "  </div>\n"
            ],
            "application/vnd.google.colaboratory.intrinsic+json": {
              "type": "dataframe",
              "variable_name": "test_data",
              "summary": "{\n  \"name\": \"test_data\",\n  \"rows\": 1087,\n  \"fields\": [\n    {\n      \"column\": \"Date\",\n      \"properties\": {\n        \"dtype\": \"date\",\n        \"min\": \"2020-01-02 00:00:00\",\n        \"max\": \"2024-04-26 00:00:00\",\n        \"num_unique_values\": 1087,\n        \"samples\": [\n          \"2022-12-16 00:00:00\",\n          \"2020-03-24 00:00:00\",\n          \"2022-09-20 00:00:00\"\n        ],\n        \"semantic_type\": \"\",\n        \"description\": \"\"\n      }\n    },\n    {\n      \"column\": \"Open\",\n      \"properties\": {\n        \"dtype\": \"number\",\n        \"std\": 33.64397199780989,\n        \"min\": 57.02000045776367,\n        \"max\": 198.02000427246094,\n        \"num_unique_values\": 1029,\n        \"samples\": [\n          121.75,\n          164.49000549316406,\n          133.8000030517578\n        ],\n        \"semantic_type\": \"\",\n        \"description\": \"\"\n      }\n    },\n    {\n      \"column\": \"High\",\n      \"properties\": {\n        \"dtype\": \"number\",\n        \"std\": 33.73917976743458,\n        \"min\": 57.125,\n        \"max\": 199.6199951171875,\n        \"num_unique_values\": 1031,\n        \"samples\": [\n          79.9375,\n          88.69249725341797,\n          98.5\n        ],\n        \"semantic_type\": \"\",\n        \"description\": \"\"\n      }\n    },\n    {\n      \"column\": \"Low\",\n      \"properties\": {\n        \"dtype\": \"number\",\n        \"std\": 33.52682964388688,\n        \"min\": 53.15250015258789,\n        \"max\": 197.0,\n        \"num_unique_values\": 1040,\n        \"samples\": [\n          95.83999633789062,\n          154.41000366210938,\n          107.66999816894531\n        ],\n        \"semantic_type\": \"\",\n        \"description\": \"\"\n      }\n    },\n    {\n      \"column\": \"Close\",\n      \"properties\": {\n        \"dtype\": \"number\",\n        \"std\": 33.64154803069786,\n        \"min\": 56.092498779296875,\n        \"max\": 198.11000061035156,\n        \"num_unique_values\": 1031,\n        \"samples\": [\n          79.75,\n          88.20999908447266,\n          97.0\n        ],\n        \"semantic_type\": \"\",\n        \"description\": \"\"\n      }\n    },\n    {\n      \"column\": \"Adj Close\",\n      \"properties\": {\n        \"dtype\": \"number\",\n        \"std\": 34.07759218680565,\n        \"min\": 54.70698928833008,\n        \"max\": 197.85752868652344,\n        \"num_unique_values\": 1075,\n        \"samples\": [\n          140.93943786621094,\n          120.89176177978516,\n          118.03162384033203\n        ],\n        \"semantic_type\": \"\",\n        \"description\": \"\"\n      }\n    },\n    {\n      \"column\": \"Volume\",\n      \"properties\": {\n        \"dtype\": \"number\",\n        \"std\": 53544200,\n        \"min\": 24048300,\n        \"max\": 426510000,\n        \"num_unique_values\": 1085,\n        \"samples\": [\n          63814900,\n          287531200,\n          64588900\n        ],\n        \"semantic_type\": \"\",\n        \"description\": \"\"\n      }\n    }\n  ]\n}"
            }
          },
          "metadata": {},
          "execution_count": 67
        }
      ]
    },
    {
      "cell_type": "code",
      "source": [
        "index = test_data.index.get_loc('2024-04-26')\n",
        "index"
      ],
      "metadata": {
        "colab": {
          "base_uri": "https://localhost:8080/"
        },
        "id": "W_eiGLT1O3Q5",
        "outputId": "de0aac46-40f2-4151-be29-302bf4c3850e"
      },
      "execution_count": 68,
      "outputs": [
        {
          "output_type": "execute_result",
          "data": {
            "text/plain": [
              "1086"
            ]
          },
          "metadata": {},
          "execution_count": 68
        }
      ]
    },
    {
      "cell_type": "code",
      "source": [
        "len(test_data)"
      ],
      "metadata": {
        "colab": {
          "base_uri": "https://localhost:8080/"
        },
        "id": "orkL5TCpQfE0",
        "outputId": "26eeb566-a21a-4863-b60e-05d709412a75"
      },
      "execution_count": 69,
      "outputs": [
        {
          "output_type": "execute_result",
          "data": {
            "text/plain": [
              "1087"
            ]
          },
          "metadata": {},
          "execution_count": 69
        }
      ]
    },
    {
      "cell_type": "code",
      "source": [
        "X_model_prediction = test_data['Close'][index-60:index].values\n",
        "len(X_model_prediction)"
      ],
      "metadata": {
        "colab": {
          "base_uri": "https://localhost:8080/"
        },
        "id": "fBrx5qDpRBB9",
        "outputId": "b357a916-af12-48e9-f8e1-58c92d1062bd"
      },
      "execution_count": 70,
      "outputs": [
        {
          "output_type": "execute_result",
          "data": {
            "text/plain": [
              "60"
            ]
          },
          "metadata": {},
          "execution_count": 70
        }
      ]
    },
    {
      "cell_type": "code",
      "source": [
        "from sklearn.preprocessing import MinMaxScaler\n",
        "scaler = MinMaxScaler()\n",
        "X_model_prediction = scaler.fit_transform(X_model_prediction.reshape(-1,1))"
      ],
      "metadata": {
        "id": "N_YyGwdaTMde"
      },
      "execution_count": 71,
      "outputs": []
    },
    {
      "cell_type": "code",
      "source": [
        "X_model_prediction.shape"
      ],
      "metadata": {
        "colab": {
          "base_uri": "https://localhost:8080/"
        },
        "id": "5fnIosP_TkXL",
        "outputId": "c70f02e8-765b-4fa2-9de1-60db5f30cfc3"
      },
      "execution_count": 72,
      "outputs": [
        {
          "output_type": "execute_result",
          "data": {
            "text/plain": [
              "(60, 1)"
            ]
          },
          "metadata": {},
          "execution_count": 72
        }
      ]
    },
    {
      "cell_type": "code",
      "source": [
        "X_model_prediction = np.array(X_model_prediction)\n",
        "X_model_prediction = np.reshape(X_model_prediction,(1,60,1))\n",
        "X_model_prediction.shape"
      ],
      "metadata": {
        "colab": {
          "base_uri": "https://localhost:8080/"
        },
        "id": "6a6xrWAWRtxC",
        "outputId": "9629b422-855a-40cc-c184-dfed8444f556"
      },
      "execution_count": 73,
      "outputs": [
        {
          "output_type": "execute_result",
          "data": {
            "text/plain": [
              "(1, 60, 1)"
            ]
          },
          "metadata": {},
          "execution_count": 73
        }
      ]
    },
    {
      "cell_type": "code",
      "source": [
        "model_2.predict(X_model_prediction)"
      ],
      "metadata": {
        "colab": {
          "base_uri": "https://localhost:8080/"
        },
        "id": "ZB5cMs2AR1I9",
        "outputId": "e9960639-33ba-4254-9da2-fb5ead7c8b71"
      },
      "execution_count": 74,
      "outputs": [
        {
          "output_type": "stream",
          "name": "stdout",
          "text": [
            "1/1 [==============================] - 2s 2s/step\n"
          ]
        },
        {
          "output_type": "execute_result",
          "data": {
            "text/plain": [
              "array([[0.30574664]], dtype=float32)"
            ]
          },
          "metadata": {},
          "execution_count": 74
        }
      ]
    },
    {
      "cell_type": "code",
      "source": [
        "y_model_prediction_true = np.array(test_data.iloc[index]['Close'])"
      ],
      "metadata": {
        "id": "Tsdwa8yNSLXn"
      },
      "execution_count": 75,
      "outputs": []
    },
    {
      "cell_type": "code",
      "source": [
        "y_model_prediction_true"
      ],
      "metadata": {
        "colab": {
          "base_uri": "https://localhost:8080/"
        },
        "id": "6N5Le69b8v_K",
        "outputId": "7f3c7986-a665-4b96-9176-03ba149947fd"
      },
      "execution_count": 77,
      "outputs": [
        {
          "output_type": "execute_result",
          "data": {
            "text/plain": [
              "array(169.30000305)"
            ]
          },
          "metadata": {},
          "execution_count": 77
        }
      ]
    },
    {
      "cell_type": "code",
      "source": [
        "normalized_prediction = np.array([[0.30574664]])\n",
        "actual_prediction = scaler.inverse_transform(normalized_prediction)\n",
        "\n",
        "print(\"Actual regression value predicted by the model_2:\", actual_prediction)\n",
        "print(\"Actual value:\",y_model_prediction_true)"
      ],
      "metadata": {
        "colab": {
          "base_uri": "https://localhost:8080/"
        },
        "id": "yaVYt3M9Ujl4",
        "outputId": "b66e1c75-c228-49e2-c082-6f9ecfeab6da"
      },
      "execution_count": 78,
      "outputs": [
        {
          "output_type": "stream",
          "name": "stdout",
          "text": [
            "Actual regression value predicted by the model_2: [[172.4632766]]\n",
            "Actual value: 169.3000030517578\n"
          ]
        }
      ]
    },
    {
      "cell_type": "code",
      "source": [
        "model_1.predict(X_model_prediction)"
      ],
      "metadata": {
        "id": "Hwj9jxtjU7LG",
        "colab": {
          "base_uri": "https://localhost:8080/"
        },
        "outputId": "cd62711b-994a-4550-d262-44df4fc61ed8"
      },
      "execution_count": 79,
      "outputs": [
        {
          "output_type": "stream",
          "name": "stdout",
          "text": [
            "1/1 [==============================] - 0s 26ms/step\n"
          ]
        },
        {
          "output_type": "execute_result",
          "data": {
            "text/plain": [
              "array([[0.22062917]], dtype=float32)"
            ]
          },
          "metadata": {},
          "execution_count": 79
        }
      ]
    },
    {
      "cell_type": "code",
      "source": [
        "y_model_prediction_true"
      ],
      "metadata": {
        "colab": {
          "base_uri": "https://localhost:8080/"
        },
        "id": "2pBPVM58U4vl",
        "outputId": "6a7b3b93-92e9-41af-d18d-d1927347ea57"
      },
      "execution_count": 80,
      "outputs": [
        {
          "output_type": "execute_result",
          "data": {
            "text/plain": [
              "array(169.30000305)"
            ]
          },
          "metadata": {},
          "execution_count": 80
        }
      ]
    },
    {
      "cell_type": "code",
      "source": [
        "normalized_prediction = np.array([[0.22062917]])\n",
        "actual_prediction = scaler.inverse_transform(normalized_prediction)\n",
        "\n",
        "print(\"Actual regression value predicted by the model_1:\", actual_prediction)\n",
        "print(\"Actual value:\",y_model_prediction_true)"
      ],
      "metadata": {
        "colab": {
          "base_uri": "https://localhost:8080/"
        },
        "id": "TZ9l9tMC44LU",
        "outputId": "79d812d2-a173-42fd-ddea-f9205779878d"
      },
      "execution_count": 83,
      "outputs": [
        {
          "output_type": "stream",
          "name": "stdout",
          "text": [
            "Actual regression value predicted by the model_1: [[170.38555885]]\n",
            "Actual value: 169.3000030517578\n"
          ]
        }
      ]
    },
    {
      "cell_type": "code",
      "source": [],
      "metadata": {
        "id": "0lmTHFl249ur"
      },
      "execution_count": null,
      "outputs": []
    }
  ]
}